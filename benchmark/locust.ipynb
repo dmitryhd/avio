{
 "cells": [
  {
   "cell_type": "markdown",
   "metadata": {
    "deletable": true,
    "editable": true
   },
   "source": [
    "- ./bin/sample_service.py # run service\n",
    "- locust -f benchmark/locustfile.py --host=http://127.0.0.1:8890  # run locust\n",
    "- open web ui http://127.0.0.1:8089/\n",
    "\n",
    "docs at https://docs.locust.io/en/stable/quickstart.html"
   ]
  },
  {
   "cell_type": "markdown",
   "metadata": {
    "deletable": true,
    "editable": true
   },
   "source": [
    "- `locust -f benchmark/sleep50_locust.py --master --host=http://127.0.0.1:8890`\n",
    "- `locust -f benchmark/sleep50_locust.py --slave --host=http://127.0.0.1:8890`"
   ]
  },
  {
   "cell_type": "markdown",
   "metadata": {
    "deletable": true,
    "editable": true
   },
   "source": [
    "\n",
    "go\n"
   ]
  },
  {
   "cell_type": "markdown",
   "metadata": {
    "deletable": true,
    "editable": true
   },
   "source": [
    "```\n",
    "locust -f benchmark/dummy.py --master --master-bind-host=127.0.0.1 --master-bind-port=5557\n",
    "\n",
    "cd benchmark/boomer\n",
    "go build -o a.out http_benchmark.go\n",
    "\n",
    "./a.out --url=http://127.0.0.1:8890/sleep50 --master-port=5557 --rpc=zeromq\n",
    "```"
   ]
  },
  {
   "cell_type": "code",
   "execution_count": 13,
   "metadata": {
    "ExecuteTime": {
     "end_time": "2018-06-07T06:02:57.077176Z",
     "start_time": "2018-06-07T09:02:57.070924+03:00"
    },
    "collapsed": true,
    "deletable": true,
    "editable": true
   },
   "outputs": [],
   "source": [
    "run_locust_master = 'locust -f dummy.py --master --master-bind-host=127.0.0.1 --master-bind-port=5557 --csv=foobar --no-web -n10 -c1'\n",
    "run_locust_slave = './a.out --url=http://127.0.0.1:8890/sleep50 --master-port=5557 --rpc=zeromq'"
   ]
  },
  {
   "cell_type": "code",
   "execution_count": 23,
   "metadata": {
    "ExecuteTime": {
     "end_time": "2018-06-07T06:04:11.397944Z",
     "start_time": "2018-06-07T09:04:11.392557+03:00"
    },
    "collapsed": false,
    "deletable": true,
    "editable": true
   },
   "outputs": [],
   "source": [
    "import subprocess\n",
    "import os\n",
    "import time\n",
    "\n",
    "#master = subprocess.Popen(run_locust_master, shell=True, stdout=subprocess.PIPE, stderr=subprocess.STDOUT)\n",
    "#slave = subprocess.Popen(run_locust_slave, shell=True, stdout=subprocess.PIPE, stderr=subprocess.STDOUT)"
   ]
  },
  {
   "cell_type": "code",
   "execution_count": 33,
   "metadata": {
    "ExecuteTime": {
     "end_time": "2018-06-07T06:06:05.603412Z",
     "start_time": "2018-06-07T09:06:04.589493+03:00"
    },
    "collapsed": false
   },
   "outputs": [],
   "source": [
    "master = subprocess.Popen(run_locust_master.split(' '), shell=True)\n",
    "time.sleep(1)\n",
    "slave = subprocess.Popen(run_locust_slave.split(' '), shell=True)"
   ]
  },
  {
   "cell_type": "code",
   "execution_count": 36,
   "metadata": {
    "ExecuteTime": {
     "end_time": "2018-06-07T06:09:23.928905Z",
     "start_time": "2018-06-07T09:09:23.919181+03:00"
    },
    "collapsed": false
   },
   "outputs": [],
   "source": [
    "master = subprocess.Popen(run_locust_master.split(' '), shell=True, stdout=subprocess.PIPE)"
   ]
  },
  {
   "cell_type": "code",
   "execution_count": 45,
   "metadata": {
    "ExecuteTime": {
     "end_time": "2018-06-07T06:10:18.041653Z",
     "start_time": "2018-06-07T09:10:18.035939+03:00"
    },
    "collapsed": false
   },
   "outputs": [
    {
     "data": {
      "text/plain": [
       "[]"
      ]
     },
     "execution_count": 45,
     "metadata": {},
     "output_type": "execute_result"
    }
   ],
   "source": [
    "master.stdout.readlines()"
   ]
  },
  {
   "cell_type": "code",
   "execution_count": 34,
   "metadata": {
    "ExecuteTime": {
     "end_time": "2018-06-07T06:06:32.097945Z",
     "start_time": "2018-06-07T09:06:32.093704+03:00"
    },
    "collapsed": false,
    "deletable": true,
    "editable": true
   },
   "outputs": [],
   "source": [
    "master.kill()\n",
    "slave.kill()"
   ]
  },
  {
   "cell_type": "code",
   "execution_count": null,
   "metadata": {
    "collapsed": true
   },
   "outputs": [],
   "source": []
  },
  {
   "cell_type": "code",
   "execution_count": 12,
   "metadata": {
    "ExecuteTime": {
     "end_time": "2018-06-07T05:56:27.681086Z",
     "start_time": "2018-06-07T08:56:27.566199+03:00"
    },
    "collapsed": false,
    "deletable": true,
    "editable": true
   },
   "outputs": [
    {
     "name": "stdout",
     "output_type": "stream",
     "text": [
      "avio_benchmark.ipynb  dummy.py  info_locust.py  locust.ipynb\r\n",
      "\u001b[0m\u001b[01;34mboomer\u001b[0m/               echo.lua  locustfile.py   sleep50_locust.py\r\n"
     ]
    }
   ],
   "source": [
    "\n",
    "ls"
   ]
  },
  {
   "cell_type": "code",
   "execution_count": 25,
   "metadata": {
    "ExecuteTime": {
     "end_time": "2018-06-07T06:05:21.924225Z",
     "start_time": "2018-06-07T09:05:21.808436+03:00"
    },
    "collapsed": true
   },
   "outputs": [],
   "source": [
    "!rm foobar_*"
   ]
  },
  {
   "cell_type": "code",
   "execution_count": 27,
   "metadata": {
    "ExecuteTime": {
     "end_time": "2018-06-07T06:05:37.107790Z",
     "start_time": "2018-06-07T09:05:37.103970+03:00"
    },
    "collapsed": true
   },
   "outputs": [],
   "source": [
    "import os"
   ]
  },
  {
   "cell_type": "code",
   "execution_count": 30,
   "metadata": {
    "ExecuteTime": {
     "end_time": "2018-06-07T06:05:43.525843Z",
     "start_time": "2018-06-07T09:05:43.519882+03:00"
    },
    "collapsed": false
   },
   "outputs": [
    {
     "data": {
      "text/plain": [
       "'/home/dkhodakov/repos/avio/benchmark'"
      ]
     },
     "execution_count": 30,
     "metadata": {},
     "output_type": "execute_result"
    }
   ],
   "source": [
    "os.getcwd()"
   ]
  },
  {
   "cell_type": "code",
   "execution_count": null,
   "metadata": {
    "collapsed": true
   },
   "outputs": [],
   "source": []
  }
 ],
 "metadata": {
  "kernelspec": {
   "display_name": "Python 3",
   "language": "python",
   "name": "python3"
  },
  "language_info": {
   "codemirror_mode": {
    "name": "ipython",
    "version": 3
   },
   "file_extension": ".py",
   "mimetype": "text/x-python",
   "name": "python",
   "nbconvert_exporter": "python",
   "pygments_lexer": "ipython3",
   "version": "3.5.2"
  },
  "toc": {
   "nav_menu": {},
   "number_sections": false,
   "sideBar": true,
   "skip_h1_title": false,
   "toc_cell": false,
   "toc_position": {},
   "toc_section_display": "block",
   "toc_window_display": false
  },
  "varInspector": {
   "cols": {
    "lenName": 16,
    "lenType": 16,
    "lenVar": 40
   },
   "kernels_config": {
    "python": {
     "delete_cmd_postfix": "",
     "delete_cmd_prefix": "del ",
     "library": "var_list.py",
     "varRefreshCmd": "print(var_dic_list())"
    },
    "r": {
     "delete_cmd_postfix": ") ",
     "delete_cmd_prefix": "rm(",
     "library": "var_list.r",
     "varRefreshCmd": "cat(var_dic_list()) "
    }
   },
   "types_to_exclude": [
    "module",
    "function",
    "builtin_function_or_method",
    "instance",
    "_Feature"
   ],
   "window_display": false
  }
 },
 "nbformat": 4,
 "nbformat_minor": 2
}
