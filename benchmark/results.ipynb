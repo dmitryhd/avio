{
 "cells": [
  {
   "cell_type": "code",
   "execution_count": 7,
   "metadata": {
    "ExecuteTime": {
     "end_time": "2018-06-28T05:07:47.256029Z",
     "start_time": "2018-06-28T05:07:47.251173Z"
    }
   },
   "outputs": [],
   "source": [
    "import pandas as pd"
   ]
  },
  {
   "cell_type": "code",
   "execution_count": 13,
   "metadata": {
    "ExecuteTime": {
     "end_time": "2018-06-28T05:09:10.696613Z",
     "start_time": "2018-06-28T05:09:10.687852Z"
    }
   },
   "outputs": [],
   "source": [
    "df = pd.DataFrame()"
   ]
  },
  {
   "cell_type": "code",
   "execution_count": null,
   "metadata": {},
   "outputs": [],
   "source": [
    "# locust -f benchmark/dummy.py --master --master-bind-host=127.0.0.1 --master-bind-port=5557 --no-web -c 200 -r 200\n",
    "# ./a.out --url=http://127.0.0.1:8890/sleep50 --master-port=5557 --rpc=zeromq"
   ]
  },
  {
   "cell_type": "code",
   "execution_count": 12,
   "metadata": {
    "ExecuteTime": {
     "end_time": "2018-06-28T05:08:04.681767Z",
     "start_time": "2018-06-28T05:08:04.664859Z"
    }
   },
   "outputs": [
    {
     "data": {
      "text/html": [
       "<div>\n",
       "<style scoped>\n",
       "    .dataframe tbody tr th:only-of-type {\n",
       "        vertical-align: middle;\n",
       "    }\n",
       "\n",
       "    .dataframe tbody tr th {\n",
       "        vertical-align: top;\n",
       "    }\n",
       "\n",
       "    .dataframe thead th {\n",
       "        text-align: right;\n",
       "    }\n",
       "</style>\n",
       "<table border=\"1\" class=\"dataframe\">\n",
       "  <thead>\n",
       "    <tr style=\"text-align: right;\">\n",
       "      <th></th>\n",
       "      <th>framework</th>\n",
       "      <th>handler</th>\n",
       "      <th>load</th>\n",
       "      <th>latency ms</th>\n",
       "      <th>server rps</th>\n",
       "    </tr>\n",
       "  </thead>\n",
       "  <tbody>\n",
       "    <tr>\n",
       "      <th>0</th>\n",
       "      <td>bare tornado</td>\n",
       "      <td>sleep 50ms</td>\n",
       "      <td>100</td>\n",
       "      <td>68</td>\n",
       "      <td>1470</td>\n",
       "    </tr>\n",
       "  </tbody>\n",
       "</table>\n",
       "</div>"
      ],
      "text/plain": [
       "      framework     handler load latency ms server rps\n",
       "0  bare tornado  sleep 50ms  100         68       1470"
      ]
     },
     "execution_count": 12,
     "metadata": {},
     "output_type": "execute_result"
    }
   ],
   "source": [
    "data = {\n",
    "    'framework': 'bare tornado',\n",
    "    'handler': 'sleep 50ms',\n",
    "    'load': 100,\n",
    "    'latency ms': 68,\n",
    "    'server rps': 1470\n",
    "}, ignore_index=True)"
   ]
  },
  {
   "cell_type": "code",
   "execution_count": 21,
   "metadata": {
    "ExecuteTime": {
     "end_time": "2018-06-28T05:46:23.206733Z",
     "start_time": "2018-06-28T05:46:23.200812Z"
    }
   },
   "outputs": [
    {
     "data": {
      "text/plain": [
       "['67', '68', '68', '68', '70', '73', '75', '78', '157']"
      ]
     },
     "execution_count": 21,
     "metadata": {},
     "output_type": "execute_result"
    }
   ],
   "source": [
    "'67     68     68     68     70     73     75     78    157'.split()"
   ]
  },
  {
   "cell_type": "code",
   "execution_count": 20,
   "metadata": {
    "ExecuteTime": {
     "end_time": "2018-06-28T05:45:51.232664Z",
     "start_time": "2018-06-28T05:45:51.193384Z"
    }
   },
   "outputs": [
    {
     "data": {
      "text/html": [
       "<div>\n",
       "<style scoped>\n",
       "    .dataframe tbody tr th:only-of-type {\n",
       "        vertical-align: middle;\n",
       "    }\n",
       "\n",
       "    .dataframe tbody tr th {\n",
       "        vertical-align: top;\n",
       "    }\n",
       "\n",
       "    .dataframe thead th {\n",
       "        text-align: right;\n",
       "    }\n",
       "</style>\n",
       "<table border=\"1\" class=\"dataframe\">\n",
       "  <thead>\n",
       "    <tr style=\"text-align: right;\">\n",
       "      <th></th>\n",
       "      <th>framework</th>\n",
       "      <th>handler</th>\n",
       "      <th>load</th>\n",
       "      <th>avg latency ms</th>\n",
       "      <th>95pct latency ms</th>\n",
       "      <th>99pct latency ms</th>\n",
       "      <th>server rps</th>\n",
       "      <th>failed</th>\n",
       "    </tr>\n",
       "  </thead>\n",
       "  <tbody>\n",
       "    <tr>\n",
       "      <th>0</th>\n",
       "      <td>bare tornado</td>\n",
       "      <td>sleep 50ms</td>\n",
       "      <td>100</td>\n",
       "      <td>68</td>\n",
       "      <td>0</td>\n",
       "      <td>0</td>\n",
       "      <td>1470.0</td>\n",
       "      <td>0</td>\n",
       "    </tr>\n",
       "    <tr>\n",
       "      <th>1</th>\n",
       "      <td>bare tornado</td>\n",
       "      <td>sleep 50ms</td>\n",
       "      <td>150</td>\n",
       "      <td>80</td>\n",
       "      <td>0</td>\n",
       "      <td>0</td>\n",
       "      <td>1470.0</td>\n",
       "      <td>0</td>\n",
       "    </tr>\n",
       "    <tr>\n",
       "      <th>2</th>\n",
       "      <td>bare tornado uvloop</td>\n",
       "      <td>sleep 50ms</td>\n",
       "      <td>150</td>\n",
       "      <td>80</td>\n",
       "      <td>0</td>\n",
       "      <td>0</td>\n",
       "      <td>1470.0</td>\n",
       "      <td>0</td>\n",
       "    </tr>\n",
       "    <tr>\n",
       "      <th>3</th>\n",
       "      <td>bare aiohttp</td>\n",
       "      <td>sleep 50ms</td>\n",
       "      <td>100</td>\n",
       "      <td>0</td>\n",
       "      <td>0</td>\n",
       "      <td>0</td>\n",
       "      <td>0.0</td>\n",
       "      <td>0</td>\n",
       "    </tr>\n",
       "    <tr>\n",
       "      <th>4</th>\n",
       "      <td>avio</td>\n",
       "      <td>sleep 50ms</td>\n",
       "      <td>100</td>\n",
       "      <td>56</td>\n",
       "      <td>0</td>\n",
       "      <td>0</td>\n",
       "      <td>1800.0</td>\n",
       "      <td>0</td>\n",
       "    </tr>\n",
       "    <tr>\n",
       "      <th>5</th>\n",
       "      <td>avio</td>\n",
       "      <td>sleep 50ms</td>\n",
       "      <td>150</td>\n",
       "      <td>60</td>\n",
       "      <td>0</td>\n",
       "      <td>0</td>\n",
       "      <td>2462.0</td>\n",
       "      <td>0</td>\n",
       "    </tr>\n",
       "    <tr>\n",
       "      <th>6</th>\n",
       "      <td>avio</td>\n",
       "      <td>sleep 50ms</td>\n",
       "      <td>200</td>\n",
       "      <td>80</td>\n",
       "      <td>0</td>\n",
       "      <td>0</td>\n",
       "      <td>2350.9</td>\n",
       "      <td>0</td>\n",
       "    </tr>\n",
       "  </tbody>\n",
       "</table>\n",
       "</div>"
      ],
      "text/plain": [
       "             framework     handler  load  avg latency ms  95pct latency ms  \\\n",
       "0         bare tornado  sleep 50ms   100              68                 0   \n",
       "1         bare tornado  sleep 50ms   150              80                 0   \n",
       "2  bare tornado uvloop  sleep 50ms   150              80                 0   \n",
       "3         bare aiohttp  sleep 50ms   100               0                 0   \n",
       "4                 avio  sleep 50ms   100              56                 0   \n",
       "5                 avio  sleep 50ms   150              60                 0   \n",
       "6                 avio  sleep 50ms   200              80                 0   \n",
       "\n",
       "   99pct latency ms  server rps  failed  \n",
       "0                 0      1470.0       0  \n",
       "1                 0      1470.0       0  \n",
       "2                 0      1470.0       0  \n",
       "3                 0         0.0       0  \n",
       "4                 0      1800.0       0  \n",
       "5                 0      2462.0       0  \n",
       "6                 0      2350.9       0  "
      ]
     },
     "execution_count": 20,
     "metadata": {},
     "output_type": "execute_result"
    }
   ],
   "source": [
    "columns=[\n",
    "    'framework', 'handler', 'load', 'avg latency ms', '95pct latency ms', '99pct latency ms', 'server rps', 'failed'\n",
    "]\n",
    "\n",
    "# 50%    66%    75%    80%    90%    95%    98%    99%   100%\n",
    "data = [\n",
    "    ['bare tornado', 'sleep 50ms', 100, 68, 0, 0, 1470, 0],\n",
    "    # 67     68     68     68     70     73     75     78    157\n",
    "    ['bare tornado', 'sleep 50ms', 150, 80, 0, 0, 1470, 0],\n",
    "    # 98     98     99     99    100    110    110    110    219\n",
    "    ['bare tornado uvloop', 'sleep 50ms', 150, 80, 0, 0, 1470, 0],\n",
    "]\n",
    "\n",
    "data.extend([\n",
    "    ['bare aiohttp', 'sleep 50ms', 100, 0, 0, 0, 0, 0],\n",
    "])\n",
    "\n",
    "data.extend([\n",
    "    ['avio', 'sleep 50ms', 100, 56, 0, 0, 1800, 0],\n",
    "    # 56     58     59     60     63     67     71     74    104 1786.00\n",
    "    ['avio', 'sleep 50ms', 150, 60, 0, 0, 2462, 0],\n",
    "    # 62     63     63     63     65     66     68     71    119 2421.30\n",
    "    ['avio', 'sleep 50ms', 200, 80, 0, 0, 2350.9, 0],\n",
    "    # 88     89     89     90     91     92     97    100    133 2310.80\n",
    "])\n",
    "df.from_records(data, columns=columns)"
   ]
  },
  {
   "cell_type": "code",
   "execution_count": 18,
   "metadata": {
    "ExecuteTime": {
     "end_time": "2018-06-28T05:09:54.043899Z",
     "start_time": "2018-06-28T05:09:54.033429Z"
    }
   },
   "outputs": [
    {
     "data": {
      "text/html": [
       "<div>\n",
       "<style scoped>\n",
       "    .dataframe tbody tr th:only-of-type {\n",
       "        vertical-align: middle;\n",
       "    }\n",
       "\n",
       "    .dataframe tbody tr th {\n",
       "        vertical-align: top;\n",
       "    }\n",
       "\n",
       "    .dataframe thead th {\n",
       "        text-align: right;\n",
       "    }\n",
       "</style>\n",
       "<table border=\"1\" class=\"dataframe\">\n",
       "  <thead>\n",
       "    <tr style=\"text-align: right;\">\n",
       "      <th></th>\n",
       "      <th>framework</th>\n",
       "      <th>handler</th>\n",
       "      <th>load</th>\n",
       "      <th>latency ms</th>\n",
       "      <th>server rps</th>\n",
       "    </tr>\n",
       "  </thead>\n",
       "  <tbody>\n",
       "    <tr>\n",
       "      <th>0</th>\n",
       "      <td>bare tornado</td>\n",
       "      <td>sleep 50ms</td>\n",
       "      <td>100</td>\n",
       "      <td>68</td>\n",
       "      <td>1470</td>\n",
       "    </tr>\n",
       "  </tbody>\n",
       "</table>\n",
       "</div>"
      ],
      "text/plain": [
       "      framework     handler  load  latency ms  server rps\n",
       "0  bare tornado  sleep 50ms   100          68        1470"
      ]
     },
     "execution_count": 18,
     "metadata": {},
     "output_type": "execute_result"
    }
   ],
   "source": []
  },
  {
   "cell_type": "code",
   "execution_count": null,
   "metadata": {},
   "outputs": [],
   "source": []
  }
 ],
 "metadata": {
  "kernelspec": {
   "display_name": "Python 3",
   "language": "python",
   "name": "python3"
  },
  "language_info": {
   "codemirror_mode": {
    "name": "ipython",
    "version": 3
   },
   "file_extension": ".py",
   "mimetype": "text/x-python",
   "name": "python",
   "nbconvert_exporter": "python",
   "pygments_lexer": "ipython3",
   "version": "3.6.5"
  },
  "toc": {
   "nav_menu": {},
   "number_sections": false,
   "sideBar": true,
   "skip_h1_title": false,
   "toc_cell": false,
   "toc_position": {},
   "toc_section_display": "block",
   "toc_window_display": false
  },
  "varInspector": {
   "cols": {
    "lenName": 16,
    "lenType": 16,
    "lenVar": 40
   },
   "kernels_config": {
    "python": {
     "delete_cmd_postfix": "",
     "delete_cmd_prefix": "del ",
     "library": "var_list.py",
     "varRefreshCmd": "print(var_dic_list())"
    },
    "r": {
     "delete_cmd_postfix": ") ",
     "delete_cmd_prefix": "rm(",
     "library": "var_list.r",
     "varRefreshCmd": "cat(var_dic_list()) "
    }
   },
   "types_to_exclude": [
    "module",
    "function",
    "builtin_function_or_method",
    "instance",
    "_Feature"
   ],
   "window_display": false
  }
 },
 "nbformat": 4,
 "nbformat_minor": 2
}
