{
 "cells": [
  {
   "cell_type": "code",
   "execution_count": 25,
   "metadata": {
    "ExecuteTime": {
     "end_time": "2018-05-24T19:32:43.605582Z",
     "start_time": "2018-05-24T19:32:43.594797Z"
    }
   },
   "outputs": [],
   "source": [
    "import pandas as pd\n",
    "import matplotlib\n",
    "import subprocess\n",
    "import attr\n",
    "from io import StringIO\n",
    "import matplotlib.pyplot as plt\n",
    "import seaborn as sns\n",
    "import numpy as np"
   ]
  },
  {
   "cell_type": "code",
   "execution_count": 26,
   "metadata": {
    "ExecuteTime": {
     "end_time": "2018-05-24T19:32:43.776328Z",
     "start_time": "2018-05-24T19:32:43.773315Z"
    }
   },
   "outputs": [],
   "source": [
    "import re"
   ]
  },
  {
   "cell_type": "markdown",
   "metadata": {},
   "source": [
    "# измерить пустой хэндлер"
   ]
  },
  {
   "cell_type": "code",
   "execution_count": 27,
   "metadata": {
    "ExecuteTime": {
     "end_time": "2018-05-24T19:32:44.096665Z",
     "start_time": "2018-05-24T19:32:44.090270Z"
    }
   },
   "outputs": [],
   "source": [
    "# wrk2 needed"
   ]
  },
  {
   "cell_type": "code",
   "execution_count": 28,
   "metadata": {
    "ExecuteTime": {
     "end_time": "2018-05-24T19:32:44.631049Z",
     "start_time": "2018-05-24T19:32:44.611120Z"
    }
   },
   "outputs": [],
   "source": [
    "sns.set_style(\"darkgrid\")\n",
    "\n",
    "def get_benchmark_output(handler: str, rps: int, duration: int = 10):\n",
    "    command = f'wrk -t1 -c10 -d{duration}s -R{rps} --u_latency'\n",
    "    command += f' {handler}'\n",
    "    output = subprocess.getoutput(command)\n",
    "    return output\n",
    "\n",
    "def parse_benchmark_output(output: str):\n",
    "    res = BenchmarkResult()\n",
    "    res.fill(output)\n",
    "    return res\n",
    "\n",
    "def run_benchmark(handler: str, rps: int, duration: int = 10):\n",
    "    out = get_benchmark_output(handler, rps, duration)\n",
    "    bench_res = parse_benchmark_output(out)\n",
    "    return bench_res\n",
    "\n",
    "\n",
    "def get_percentile_spectrum(out: str) -> pd.DataFrame:\n",
    "\n",
    "    percentile_spectrum_str = (out.split('Value   Percentile   TotalCount 1/(1-Percentile)')[1].split('#[Mean')[0]).strip()\n",
    "\n",
    "    percentile_spectrum = pd.read_csv(\n",
    "        StringIO(percentile_spectrum_str), \n",
    "        sep='\\s+', \n",
    "        header=None, \n",
    "        names=['ms', 'percentile', 'total_count', 'x'],\n",
    "    )\n",
    "    del percentile_spectrum['x']\n",
    "    return percentile_spectrum\n",
    "\n",
    "\n",
    "def plot_spectrum(percentile_spectrum: pd.DataFrame, label: str='experiment', title=''):\n",
    "    spectrum = percentile_spectrum[percentile_spectrum['percentile'] > .4]\n",
    "    \n",
    "    plt.figure(figsize=(13,7));\n",
    "    plt.xlabel('Percentile')\n",
    "    plt.ylabel('Response (ms)')\n",
    "    plt.title('Response spectrum ' + title)\n",
    "    plt.xticks(np.arange(min(spectrum.percentile), 1.05, .05))\n",
    "    \n",
    "    plt.plot(spectrum['percentile'], spectrum['ms'], label=label);\n",
    "    \n",
    "    plt.legend()"
   ]
  },
  {
   "cell_type": "code",
   "execution_count": 29,
   "metadata": {
    "ExecuteTime": {
     "end_time": "2018-05-24T19:32:45.557588Z",
     "start_time": "2018-05-24T19:32:45.547756Z"
    }
   },
   "outputs": [],
   "source": [
    "@attr.s\n",
    "class BenchmarkResult:\n",
    "    \n",
    "    name = attr.ib(default='')\n",
    "    latency_ms_p95 = attr.ib(default=.0)\n",
    "    rps = attr.ib(default=.0)\n",
    "    \n",
    "    def fill(self, output: str):\n",
    "        self.rps = float(re.findall(r'Requests/sec:\\s+(\\d*\\.\\d*)', output)[0])\n",
    "        self.spectrum = get_percentile_spectrum(output)\n",
    "        self.latency_ms_p95 = round(float(self.spectrum[self.spectrum['percentile'] > .949].iloc[0].ms), 3)\n",
    "        \n",
    "    def plot(self):\n",
    "        plot_spectrum(self.spectrum, label=self.name, title=self.name)"
   ]
  },
  {
   "cell_type": "code",
   "execution_count": 30,
   "metadata": {
    "ExecuteTime": {
     "end_time": "2018-05-24T19:32:46.169920Z",
     "start_time": "2018-05-24T19:32:46.161810Z"
    }
   },
   "outputs": [],
   "source": [
    "class Benchmark:\n",
    "    \n",
    "    def __init__(self, handler='_info', host='http://127.0.0.1:8890'):\n",
    "        self.handler = handler\n",
    "        self.host = host\n",
    "        self.results = []\n",
    "        \n",
    "    def run(self, rps: list, duration = 120):\n",
    "        results = []\n",
    "        for rate in rps:\n",
    "            res = BenchmarkResult(name=f'{self.handler} {rate} rps')\n",
    "            out = get_benchmark_output(self.host + '/' + self.handler, rps=rate, duration=duration)\n",
    "            res.fill(out)\n",
    "            print(res)\n",
    "            results.append(res)\n",
    "        self.resuts = results\n",
    "        return results"
   ]
  },
  {
   "cell_type": "code",
   "execution_count": 31,
   "metadata": {
    "ExecuteTime": {
     "end_time": "2018-05-24T19:32:52.977312Z",
     "start_time": "2018-05-24T19:32:46.915760Z"
    }
   },
   "outputs": [
    {
     "name": "stdout",
     "output_type": "stream",
     "text": [
      "BenchmarkResult(name='_info 10 rps', latency_ms_p95=2.179, rps=10.49)\n",
      "BenchmarkResult(name='_info 100 rps', latency_ms_p95=2.201, rps=100.44)\n",
      "BenchmarkResult(name='_info 500 rps', latency_ms_p95=2.699, rps=496.28)\n"
     ]
    }
   ],
   "source": [
    "b0 = Benchmark(host='http://127.0.0.1:8890', handler='_info')\n",
    "results = b0.run(rps=[10, 100, 500], duration=2)\n",
    "# print(results)"
   ]
  },
  {
   "cell_type": "code",
   "execution_count": 32,
   "metadata": {
    "ExecuteTime": {
     "end_time": "2018-05-24T19:33:27.394889Z",
     "start_time": "2018-05-24T19:32:57.324535Z"
    }
   },
   "outputs": [
    {
     "name": "stdout",
     "output_type": "stream",
     "text": [
      "BenchmarkResult(name='sleep50 50 rps', latency_ms_p95=2.791, rps=50.09)\n",
      "BenchmarkResult(name='sleep50 100 rps', latency_ms_p95=2.655, rps=100.08)\n",
      "BenchmarkResult(name='sleep50 200 rps', latency_ms_p95=2.505, rps=200.05)\n"
     ]
    }
   ],
   "source": [
    "b1 = Benchmark(host='http://127.0.0.1:8890', handler='sleep50')\n",
    "results = b1.run(rps=[50, 100, 200], duration=10)\n",
    "# print(results)"
   ]
  },
  {
   "cell_type": "code",
   "execution_count": null,
   "metadata": {
    "ExecuteTime": {
     "start_time": "2018-05-24T19:33:34.231Z"
    }
   },
   "outputs": [],
   "source": [
    "b2 = Benchmark(host='http://127.0.0.1:8890', handler='sleep100')\n",
    "results = b2.run(rps=[50, 100, 200], duration=10)\n",
    "# print(results)"
   ]
  },
  {
   "cell_type": "code",
   "execution_count": null,
   "metadata": {
    "ExecuteTime": {
     "start_time": "2018-05-24T19:33:39.095Z"
    }
   },
   "outputs": [],
   "source": [
    "b3 = Benchmark(host='http://127.0.0.1:8890', handler='sleep100')\n",
    "results = b2.run(rps=[300, 400, 500], duration=10)\n",
    "# print(results)"
   ]
  },
  {
   "cell_type": "code",
   "execution_count": null,
   "metadata": {},
   "outputs": [],
   "source": []
  }
 ],
 "metadata": {
  "kernelspec": {
   "display_name": "Python 3",
   "language": "python",
   "name": "python3"
  },
  "language_info": {
   "codemirror_mode": {
    "name": "ipython",
    "version": 3
   },
   "file_extension": ".py",
   "mimetype": "text/x-python",
   "name": "python",
   "nbconvert_exporter": "python",
   "pygments_lexer": "ipython3",
   "version": "3.6.3"
  },
  "toc": {
   "nav_menu": {},
   "number_sections": false,
   "sideBar": true,
   "skip_h1_title": false,
   "toc_cell": false,
   "toc_position": {},
   "toc_section_display": "block",
   "toc_window_display": false
  },
  "varInspector": {
   "cols": {
    "lenName": 16,
    "lenType": 16,
    "lenVar": 40
   },
   "kernels_config": {
    "python": {
     "delete_cmd_postfix": "",
     "delete_cmd_prefix": "del ",
     "library": "var_list.py",
     "varRefreshCmd": "print(var_dic_list())"
    },
    "r": {
     "delete_cmd_postfix": ") ",
     "delete_cmd_prefix": "rm(",
     "library": "var_list.r",
     "varRefreshCmd": "cat(var_dic_list()) "
    }
   },
   "types_to_exclude": [
    "module",
    "function",
    "builtin_function_or_method",
    "instance",
    "_Feature"
   ],
   "window_display": false
  }
 },
 "nbformat": 4,
 "nbformat_minor": 1
}
