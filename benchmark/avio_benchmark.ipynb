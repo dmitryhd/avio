{
 "cells": [
  {
   "cell_type": "code",
   "execution_count": 25,
   "metadata": {
    "ExecuteTime": {
     "end_time": "2018-05-24T19:32:43.605582Z",
     "start_time": "2018-05-24T19:32:43.594797Z"
    }
   },
   "outputs": [],
   "source": [
    "import pandas as pd\n",
    "import matplotlib\n",
    "import subprocess\n",
    "import attr\n",
    "from io import StringIO\n",
    "import matplotlib.pyplot as plt\n",
    "import seaborn as sns\n",
    "import numpy as np"
   ]
  },
  {
   "cell_type": "code",
   "execution_count": 26,
   "metadata": {
    "ExecuteTime": {
     "end_time": "2018-05-24T19:32:43.776328Z",
     "start_time": "2018-05-24T19:32:43.773315Z"
    }
   },
   "outputs": [],
   "source": [
    "import re"
   ]
  },
  {
   "cell_type": "markdown",
   "metadata": {},
   "source": [
    "# измерить пустой хэндлер"
   ]
  },
  {
   "cell_type": "code",
   "execution_count": 27,
   "metadata": {
    "ExecuteTime": {
     "end_time": "2018-05-24T19:32:44.096665Z",
     "start_time": "2018-05-24T19:32:44.090270Z"
    }
   },
   "outputs": [],
   "source": [
    "# wrk2 needed"
   ]
  },
  {
   "cell_type": "code",
   "execution_count": 28,
   "metadata": {
    "ExecuteTime": {
     "end_time": "2018-05-24T19:32:44.631049Z",
     "start_time": "2018-05-24T19:32:44.611120Z"
    }
   },
   "outputs": [],
   "source": [
    "sns.set_style(\"darkgrid\")\n",
    "\n",
    "def get_benchmark_output(handler: str, rps: int, duration: int = 10):\n",
    "    command = f'wrk -t1 -c10 -d{duration}s -R{rps} --u_latency'\n",
    "    command += f' {handler}'\n",
    "    output = subprocess.getoutput(command)\n",
    "    return output\n",
    "\n",
    "def parse_benchmark_output(output: str):\n",
    "    res = BenchmarkResult()\n",
    "    res.fill(output)\n",
    "    return res\n",
    "\n",
    "def run_benchmark(handler: str, rps: int, duration: int = 10):\n",
    "    out = get_benchmark_output(handler, rps, duration)\n",
    "    bench_res = parse_benchmark_output(out)\n",
    "    return bench_res\n",
    "\n",
    "\n",
    "def get_percentile_spectrum(out: str) -> pd.DataFrame:\n",
    "\n",
    "    percentile_spectrum_str = (out.split('Value   Percentile   TotalCount 1/(1-Percentile)')[1].split('#[Mean')[0]).strip()\n",
    "\n",
    "    percentile_spectrum = pd.read_csv(\n",
    "        StringIO(percentile_spectrum_str), \n",
    "        sep='\\s+', \n",
    "        header=None, \n",
    "        names=['ms', 'percentile', 'total_count', 'x'],\n",
    "    )\n",
    "    del percentile_spectrum['x']\n",
    "    return percentile_spectrum\n",
    "\n",
    "\n",
    "def plot_spectrum(percentile_spectrum: pd.DataFrame, label: str='experiment', title=''):\n",
    "    spectrum = percentile_spectrum[percentile_spectrum['percentile'] > .4]\n",
    "    \n",
    "    plt.figure(figsize=(13,7));\n",
    "    plt.xlabel('Percentile')\n",
    "    plt.ylabel('Response (ms)')\n",
    "    plt.title('Response spectrum ' + title)\n",
    "    plt.xticks(np.arange(min(spectrum.percentile), 1.05, .05))\n",
    "    \n",
    "    plt.plot(spectrum['percentile'], spectrum['ms'], label=label);\n",
    "    \n",
    "    plt.legend()"
   ]
  },
  {
   "cell_type": "code",
   "execution_count": 29,
   "metadata": {
    "ExecuteTime": {
     "end_time": "2018-05-24T19:32:45.557588Z",
     "start_time": "2018-05-24T19:32:45.547756Z"
    }
   },
   "outputs": [],
   "source": [
    "@attr.s\n",
    "class BenchmarkResult:\n",
    "    \n",
    "    name = attr.ib(default='')\n",
    "    latency_ms_p95 = attr.ib(default=.0)\n",
    "    rps = attr.ib(default=.0)\n",
    "    \n",
    "    def fill(self, output: str):\n",
    "        self.rps = float(re.findall(r'Requests/sec:\\s+(\\d*\\.\\d*)', output)[0])\n",
    "        self.spectrum = get_percentile_spectrum(output)\n",
    "        self.latency_ms_p95 = round(float(self.spectrum[self.spectrum['percentile'] > .949].iloc[0].ms), 3)\n",
    "        \n",
    "    def plot(self):\n",
    "        plot_spectrum(self.spectrum, label=self.name, title=self.name)"
   ]
  },
  {
   "cell_type": "code",
   "execution_count": 30,
   "metadata": {
    "ExecuteTime": {
     "end_time": "2018-05-24T19:32:46.169920Z",
     "start_time": "2018-05-24T19:32:46.161810Z"
    }
   },
   "outputs": [],
   "source": [
    "class Benchmark:\n",
    "    \n",
    "    def __init__(self, handler='_info', host='http://127.0.0.1:8890'):\n",
    "        self.handler = handler\n",
    "        self.host = host\n",
    "        self.results = []\n",
    "        \n",
    "    def run(self, rps: list, duration = 120):\n",
    "        results = []\n",
    "        for rate in rps:\n",
    "            res = BenchmarkResult(name=f'{self.handler} {rate} rps')\n",
    "            out = get_benchmark_output(self.host + '/' + self.handler, rps=rate, duration=duration)\n",
    "            res.fill(out)\n",
    "            print(res)\n",
    "            results.append(res)\n",
    "        self.resuts = results\n",
    "        return results"
   ]
  },
  {
   "cell_type": "code",
   "execution_count": 39,
   "metadata": {
    "ExecuteTime": {
     "end_time": "2018-05-24T19:35:42.588691Z",
     "start_time": "2018-05-24T19:35:36.516450Z"
    }
   },
   "outputs": [
    {
     "name": "stdout",
     "output_type": "stream",
     "text": [
      "BenchmarkResult(name='_info 10 rps', latency_ms_p95=2.843, rps=10.49)\n",
      "BenchmarkResult(name='_info 100 rps', latency_ms_p95=2.315, rps=100.44)\n",
      "BenchmarkResult(name='_info 500 rps', latency_ms_p95=2.855, rps=496.12)\n"
     ]
    }
   ],
   "source": [
    "b0 = Benchmark(host='http://127.0.0.1:8890', handler='_info')\n",
    "results = b0.run(rps=[10, 100, 500], duration=2)\n",
    "# print(results)"
   ]
  },
  {
   "cell_type": "code",
   "execution_count": 41,
   "metadata": {
    "ExecuteTime": {
     "end_time": "2018-05-24T19:36:58.449805Z",
     "start_time": "2018-05-24T19:36:28.281119Z"
    }
   },
   "outputs": [
    {
     "name": "stdout",
     "output_type": "stream",
     "text": [
      "BenchmarkResult(name='sleep50 50 rps', latency_ms_p95=0.0, rps=49.75)\n",
      "BenchmarkResult(name='sleep50 100 rps', latency_ms_p95=0.0, rps=99.49)\n",
      "BenchmarkResult(name='sleep50 200 rps', latency_ms_p95=444.671, rps=190.59)\n"
     ]
    },
    {
     "data": {
      "text/plain": [
       "[BenchmarkResult(name='sleep50 50 rps', latency_ms_p95=0.0, rps=49.75),\n",
       " BenchmarkResult(name='sleep50 100 rps', latency_ms_p95=0.0, rps=99.49),\n",
       " BenchmarkResult(name='sleep50 200 rps', latency_ms_p95=444.671, rps=190.59)]"
      ]
     },
     "execution_count": 41,
     "metadata": {},
     "output_type": "execute_result"
    }
   ],
   "source": [
    "b1 = Benchmark(host='http://127.0.0.1:8890', handler='sleep50')\n",
    "b1.run(rps=[50, 100, 200], duration=10)"
   ]
  },
  {
   "cell_type": "code",
   "execution_count": 37,
   "metadata": {
    "ExecuteTime": {
     "end_time": "2018-05-24T19:35:20.230237Z",
     "start_time": "2018-05-24T19:35:20.175347Z"
    }
   },
   "outputs": [
    {
     "ename": "IndexError",
     "evalue": "list index out of range",
     "output_type": "error",
     "traceback": [
      "\u001b[0;31m---------------------------------------------------------------------------\u001b[0m",
      "\u001b[0;31mIndexError\u001b[0m                                Traceback (most recent call last)",
      "\u001b[0;32m<ipython-input-37-4ce4b2b78c70>\u001b[0m in \u001b[0;36m<module>\u001b[0;34m()\u001b[0m\n\u001b[1;32m      1\u001b[0m \u001b[0mb1\u001b[0m \u001b[0;34m=\u001b[0m \u001b[0mBenchmark\u001b[0m\u001b[0;34m(\u001b[0m\u001b[0mhost\u001b[0m\u001b[0;34m=\u001b[0m\u001b[0;34m'http://127.0.0.1:8890'\u001b[0m\u001b[0;34m,\u001b[0m \u001b[0mhandler\u001b[0m\u001b[0;34m=\u001b[0m\u001b[0;34m'sleep50'\u001b[0m\u001b[0;34m)\u001b[0m\u001b[0;34m\u001b[0m\u001b[0m\n\u001b[0;32m----> 2\u001b[0;31m \u001b[0mb1\u001b[0m\u001b[0;34m.\u001b[0m\u001b[0mrun\u001b[0m\u001b[0;34m(\u001b[0m\u001b[0mrps\u001b[0m\u001b[0;34m=\u001b[0m\u001b[0;34m[\u001b[0m\u001b[0;36m50\u001b[0m\u001b[0;34m,\u001b[0m \u001b[0;36m100\u001b[0m\u001b[0;34m,\u001b[0m \u001b[0;36m200\u001b[0m\u001b[0;34m]\u001b[0m\u001b[0;34m,\u001b[0m \u001b[0mduration\u001b[0m\u001b[0;34m=\u001b[0m\u001b[0;36m10\u001b[0m\u001b[0;34m)\u001b[0m\u001b[0;34m\u001b[0m\u001b[0m\n\u001b[0m\u001b[1;32m      3\u001b[0m \u001b[0;31m# print(results)\u001b[0m\u001b[0;34m\u001b[0m\u001b[0;34m\u001b[0m\u001b[0m\n\u001b[1;32m      4\u001b[0m \u001b[0;34m\u001b[0m\u001b[0m\n\u001b[1;32m      5\u001b[0m \u001b[0mb2\u001b[0m \u001b[0;34m=\u001b[0m \u001b[0mBenchmark\u001b[0m\u001b[0;34m(\u001b[0m\u001b[0mhost\u001b[0m\u001b[0;34m=\u001b[0m\u001b[0;34m'http://127.0.0.1:8890'\u001b[0m\u001b[0;34m,\u001b[0m \u001b[0mhandler\u001b[0m\u001b[0;34m=\u001b[0m\u001b[0;34m'sleep100'\u001b[0m\u001b[0;34m)\u001b[0m\u001b[0;34m\u001b[0m\u001b[0m\n",
      "\u001b[0;32m<ipython-input-30-1616c63e9064>\u001b[0m in \u001b[0;36mrun\u001b[0;34m(self, rps, duration)\u001b[0m\n\u001b[1;32m     11\u001b[0m             \u001b[0mres\u001b[0m \u001b[0;34m=\u001b[0m \u001b[0mBenchmarkResult\u001b[0m\u001b[0;34m(\u001b[0m\u001b[0mname\u001b[0m\u001b[0;34m=\u001b[0m\u001b[0;34mf'{self.handler} {rate} rps'\u001b[0m\u001b[0;34m)\u001b[0m\u001b[0;34m\u001b[0m\u001b[0m\n\u001b[1;32m     12\u001b[0m             \u001b[0mout\u001b[0m \u001b[0;34m=\u001b[0m \u001b[0mget_benchmark_output\u001b[0m\u001b[0;34m(\u001b[0m\u001b[0mself\u001b[0m\u001b[0;34m.\u001b[0m\u001b[0mhost\u001b[0m \u001b[0;34m+\u001b[0m \u001b[0;34m'/'\u001b[0m \u001b[0;34m+\u001b[0m \u001b[0mself\u001b[0m\u001b[0;34m.\u001b[0m\u001b[0mhandler\u001b[0m\u001b[0;34m,\u001b[0m \u001b[0mrps\u001b[0m\u001b[0;34m=\u001b[0m\u001b[0mrate\u001b[0m\u001b[0;34m,\u001b[0m \u001b[0mduration\u001b[0m\u001b[0;34m=\u001b[0m\u001b[0mduration\u001b[0m\u001b[0;34m)\u001b[0m\u001b[0;34m\u001b[0m\u001b[0m\n\u001b[0;32m---> 13\u001b[0;31m             \u001b[0mres\u001b[0m\u001b[0;34m.\u001b[0m\u001b[0mfill\u001b[0m\u001b[0;34m(\u001b[0m\u001b[0mout\u001b[0m\u001b[0;34m)\u001b[0m\u001b[0;34m\u001b[0m\u001b[0m\n\u001b[0m\u001b[1;32m     14\u001b[0m             \u001b[0mprint\u001b[0m\u001b[0;34m(\u001b[0m\u001b[0mres\u001b[0m\u001b[0;34m)\u001b[0m\u001b[0;34m\u001b[0m\u001b[0m\n\u001b[1;32m     15\u001b[0m             \u001b[0mresults\u001b[0m\u001b[0;34m.\u001b[0m\u001b[0mappend\u001b[0m\u001b[0;34m(\u001b[0m\u001b[0mres\u001b[0m\u001b[0;34m)\u001b[0m\u001b[0;34m\u001b[0m\u001b[0m\n",
      "\u001b[0;32m<ipython-input-29-0db5d295e619>\u001b[0m in \u001b[0;36mfill\u001b[0;34m(self, output)\u001b[0m\n\u001b[1;32m      7\u001b[0m \u001b[0;34m\u001b[0m\u001b[0m\n\u001b[1;32m      8\u001b[0m     \u001b[0;32mdef\u001b[0m \u001b[0mfill\u001b[0m\u001b[0;34m(\u001b[0m\u001b[0mself\u001b[0m\u001b[0;34m,\u001b[0m \u001b[0moutput\u001b[0m\u001b[0;34m:\u001b[0m \u001b[0mstr\u001b[0m\u001b[0;34m)\u001b[0m\u001b[0;34m:\u001b[0m\u001b[0;34m\u001b[0m\u001b[0m\n\u001b[0;32m----> 9\u001b[0;31m         \u001b[0mself\u001b[0m\u001b[0;34m.\u001b[0m\u001b[0mrps\u001b[0m \u001b[0;34m=\u001b[0m \u001b[0mfloat\u001b[0m\u001b[0;34m(\u001b[0m\u001b[0mre\u001b[0m\u001b[0;34m.\u001b[0m\u001b[0mfindall\u001b[0m\u001b[0;34m(\u001b[0m\u001b[0;34mr'Requests/sec:\\s+(\\d*\\.\\d*)'\u001b[0m\u001b[0;34m,\u001b[0m \u001b[0moutput\u001b[0m\u001b[0;34m)\u001b[0m\u001b[0;34m[\u001b[0m\u001b[0;36m0\u001b[0m\u001b[0;34m]\u001b[0m\u001b[0;34m)\u001b[0m\u001b[0;34m\u001b[0m\u001b[0m\n\u001b[0m\u001b[1;32m     10\u001b[0m         \u001b[0mself\u001b[0m\u001b[0;34m.\u001b[0m\u001b[0mspectrum\u001b[0m \u001b[0;34m=\u001b[0m \u001b[0mget_percentile_spectrum\u001b[0m\u001b[0;34m(\u001b[0m\u001b[0moutput\u001b[0m\u001b[0;34m)\u001b[0m\u001b[0;34m\u001b[0m\u001b[0m\n\u001b[1;32m     11\u001b[0m         \u001b[0mself\u001b[0m\u001b[0;34m.\u001b[0m\u001b[0mlatency_ms_p95\u001b[0m \u001b[0;34m=\u001b[0m \u001b[0mround\u001b[0m\u001b[0;34m(\u001b[0m\u001b[0mfloat\u001b[0m\u001b[0;34m(\u001b[0m\u001b[0mself\u001b[0m\u001b[0;34m.\u001b[0m\u001b[0mspectrum\u001b[0m\u001b[0;34m[\u001b[0m\u001b[0mself\u001b[0m\u001b[0;34m.\u001b[0m\u001b[0mspectrum\u001b[0m\u001b[0;34m[\u001b[0m\u001b[0;34m'percentile'\u001b[0m\u001b[0;34m]\u001b[0m \u001b[0;34m>\u001b[0m \u001b[0;36m.949\u001b[0m\u001b[0;34m]\u001b[0m\u001b[0;34m.\u001b[0m\u001b[0miloc\u001b[0m\u001b[0;34m[\u001b[0m\u001b[0;36m0\u001b[0m\u001b[0;34m]\u001b[0m\u001b[0;34m.\u001b[0m\u001b[0mms\u001b[0m\u001b[0;34m)\u001b[0m\u001b[0;34m,\u001b[0m \u001b[0;36m3\u001b[0m\u001b[0;34m)\u001b[0m\u001b[0;34m\u001b[0m\u001b[0m\n",
      "\u001b[0;31mIndexError\u001b[0m: list index out of range"
     ]
    }
   ],
   "source": [
    "b1 = Benchmark(host='http://127.0.0.1:8890', handler='sleep50')\n",
    "b1.run(rps=[50, 100, 200], duration=10)\n",
    "# print(results)\n",
    "\n",
    "b2 = Benchmark(host='http://127.0.0.1:8890', handler='sleep100')\n",
    "results = b2.run(rps=[50, 100, 200], duration=10)\n",
    "# print(results)\n",
    "\n",
    "b3 = Benchmark(host='http://127.0.0.1:8890', handler='sleep100')\n",
    "results = b2.run(rps=[300, 400, 500], duration=10)"
   ]
  },
  {
   "cell_type": "code",
   "execution_count": null,
   "metadata": {},
   "outputs": [],
   "source": []
  }
 ],
 "metadata": {
  "kernelspec": {
   "display_name": "Python 3",
   "language": "python",
   "name": "python3"
  },
  "language_info": {
   "codemirror_mode": {
    "name": "ipython",
    "version": 3
   },
   "file_extension": ".py",
   "mimetype": "text/x-python",
   "name": "python",
   "nbconvert_exporter": "python",
   "pygments_lexer": "ipython3",
   "version": "3.6.4"
  },
  "toc": {
   "nav_menu": {},
   "number_sections": false,
   "sideBar": true,
   "skip_h1_title": false,
   "toc_cell": false,
   "toc_position": {},
   "toc_section_display": "block",
   "toc_window_display": false
  },
  "varInspector": {
   "cols": {
    "lenName": 16,
    "lenType": 16,
    "lenVar": 40
   },
   "kernels_config": {
    "python": {
     "delete_cmd_postfix": "",
     "delete_cmd_prefix": "del ",
     "library": "var_list.py",
     "varRefreshCmd": "print(var_dic_list())"
    },
    "r": {
     "delete_cmd_postfix": ") ",
     "delete_cmd_prefix": "rm(",
     "library": "var_list.r",
     "varRefreshCmd": "cat(var_dic_list()) "
    }
   },
   "types_to_exclude": [
    "module",
    "function",
    "builtin_function_or_method",
    "instance",
    "_Feature"
   ],
   "window_display": false
  }
 },
 "nbformat": 4,
 "nbformat_minor": 1
}
