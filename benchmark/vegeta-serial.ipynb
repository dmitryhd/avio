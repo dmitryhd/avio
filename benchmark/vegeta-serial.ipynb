{
 "cells": [
  {
   "cell_type": "code",
   "execution_count": 76,
   "metadata": {},
   "outputs": [],
   "source": [
    "import os\n",
    "import subprocess\n",
    "import pandas as pd\n",
    "import time\n",
    "import seaborn as sns\n",
    "sns.set(style='whitegrid')\n",
    "sns.set(rc={'figure.figsize':(11.7, 8.27)})"
   ]
  },
  {
   "cell_type": "code",
   "execution_count": 77,
   "metadata": {},
   "outputs": [],
   "source": [
    "def run_experiment(exp_name: str, rps=100, duration_sec=5) -> str:\n",
    "    dump_file = f'/tmp/{exp_name}.bin'\n",
    "    out_csv = f'/tmp/{exp_name}.csv'\n",
    "\n",
    "    run_vegeta = f\"\"\"\n",
    "        echo 'GET http://localhost:8890/sleep50' | vegeta -cpus 1 attack -rate {rps} -duration {duration_sec}s -timeout 1s -name {exp_name} -workers 1 > {dump_file}\n",
    "    \"\"\"\n",
    "    #show_plot = f\"cat {dump_file} | vegeta report -reporter plot > /tmp/plot.html; open /tmp/plot.html\"    \n",
    "    print(subprocess.run(run_vegeta, shell=True))\n",
    "    print('---'*10)\n",
    "    print_report = f\"cat {dump_file} | vegeta report -reporter text > /tmp/res.txt\"\n",
    "    subprocess.run(print_report, shell=True)\n",
    "    print(open('/tmp/res.txt').read())\n",
    "\n",
    "def read_experiment(csv_path: str, warmup_time_sec = 0.2) -> pd.DataFrame:\n",
    "    names = ['unix_ts_ns', 'http_code', 'latency_ns', 'bytes_out', 'bytes_in', 'x', 'error', 'exp_name', 'y']\n",
    "    data = pd.read_csv(csv_path, header=None, names=names)\n",
    "    del data['error']\n",
    "    del data['x']\n",
    "    del data['y']\n",
    "    del data['bytes_out']\n",
    "    del data['bytes_in']\n",
    "    begin_ts_ns = data.unix_ts_ns.min()\n",
    "    exp_start_ts_ns = begin_ts_ns + int(warmup_time_sec * 1_000_000_000)\n",
    "    data = data[data.unix_ts_ns > exp_start_ts_ns]\n",
    "    data.reset_index(drop=True, inplace=True)\n",
    "    data['latency_ms'] = (data['latency_ns'] / 1_000_000).round(2)\n",
    "    del data['unix_ts_ns']\n",
    "    del data['latency_ns']\n",
    "    return data\n",
    "\n",
    "def aggr_exp(exp_names: list) -> str:\n",
    "    out_csv = f'/tmp/out.csv'\n",
    "    dump_files = ','.join([f'/tmp/{exp_name}.bin' for exp_name in exp_names])\n",
    "    dump_ext = f\"vegeta dump -inputs {dump_files} -output {out_csv} -dumper csv\"\n",
    "    print(subprocess.run(dump_ext, shell=True))\n",
    "    return out_csv\n",
    "\n",
    "def plot_exp_data(exp_data):\n",
    "    ax = sns.boxplot(x='latency_ms', y='exp_name', data=exp_data)"
   ]
  },
  {
   "cell_type": "code",
   "execution_count": 150,
   "metadata": {},
   "outputs": [],
   "source": [
    "def latency_table(exp_data):\n",
    "    a = exp_data.groupby('exp_name').quantile([.95, .98, .99])\n",
    "    a = a.reset_index().pivot(index='exp_name', columns='level_1', values='latency_ms')\n",
    "    a = a.round(1)\n",
    "    df = a.reset_index()\n",
    "    df['exp_name'], df['rps'] = df.exp_name.str.split('_rps_').str\n",
    "    df['rps'] = df['rps'].astype(int)\n",
    "    df.sort_values('rps', inplace=True)\n",
    "    df.reset_index(drop=True, inplace=True)\n",
    "    df = df[['rps','exp_name', 0.95, 0.98, 0.99]]\n",
    "    return df.set_index('rps', drop=True)"
   ]
  },
  {
   "cell_type": "code",
   "execution_count": 78,
   "metadata": {},
   "outputs": [
    {
     "name": "stdout",
     "output_type": "stream",
     "text": [
      "CompletedProcess(args=\"\\n        echo 'GET http://localhost:8890/sleep50' | vegeta -cpus 1 attack -rate 100 -duration 5s -timeout 1s -name aiohttp_sleep_50_rps_100 -workers 1 > /tmp/aiohttp_sleep_50_rps_100.bin\\n    \", returncode=0)\n",
      "------------------------------\n",
      "Requests      [total, rate]            500, 100.20\n",
      "Duration      [total, attack, wait]    5.042442525s, 4.989956764s, 52.485761ms\n",
      "Latencies     [mean, 50, 95, 99, max]  51.569273ms, 51.469544ms, 52.599499ms, 53.386448ms, 55.376723ms\n",
      "Bytes In      [total, mean]            0, 0.00\n",
      "Bytes Out     [total, mean]            0, 0.00\n",
      "Success       [ratio]                  100.00%\n",
      "Status Codes  [code:count]             200:500  \n",
      "Error Set:\n",
      "\n"
     ]
    }
   ],
   "source": [
    "exp_name = 'aiohttp_sleep_50_rps_100'\n",
    "run_experiment(exp_name)"
   ]
  },
  {
   "cell_type": "code",
   "execution_count": 79,
   "metadata": {},
   "outputs": [
    {
     "name": "stdout",
     "output_type": "stream",
     "text": [
      "CompletedProcess(args='vegeta dump -inputs /tmp/aiohttp_sleep_50_rps_100.bin -output /tmp/out.csv -dumper csv', returncode=0)\n"
     ]
    },
    {
     "data": {
      "text/html": [
       "<div>\n",
       "<style scoped>\n",
       "    .dataframe tbody tr th:only-of-type {\n",
       "        vertical-align: middle;\n",
       "    }\n",
       "\n",
       "    .dataframe tbody tr th {\n",
       "        vertical-align: top;\n",
       "    }\n",
       "\n",
       "    .dataframe thead th {\n",
       "        text-align: right;\n",
       "    }\n",
       "</style>\n",
       "<table border=\"1\" class=\"dataframe\">\n",
       "  <thead>\n",
       "    <tr style=\"text-align: right;\">\n",
       "      <th></th>\n",
       "      <th>http_code</th>\n",
       "      <th>exp_name</th>\n",
       "      <th>latency_ms</th>\n",
       "    </tr>\n",
       "  </thead>\n",
       "  <tbody>\n",
       "    <tr>\n",
       "      <th>0</th>\n",
       "      <td>200</td>\n",
       "      <td>aiohttp_sleep_50_rps_100</td>\n",
       "      <td>50.98</td>\n",
       "    </tr>\n",
       "    <tr>\n",
       "      <th>1</th>\n",
       "      <td>200</td>\n",
       "      <td>aiohttp_sleep_50_rps_100</td>\n",
       "      <td>51.30</td>\n",
       "    </tr>\n",
       "    <tr>\n",
       "      <th>2</th>\n",
       "      <td>200</td>\n",
       "      <td>aiohttp_sleep_50_rps_100</td>\n",
       "      <td>51.14</td>\n",
       "    </tr>\n",
       "    <tr>\n",
       "      <th>3</th>\n",
       "      <td>200</td>\n",
       "      <td>aiohttp_sleep_50_rps_100</td>\n",
       "      <td>50.80</td>\n",
       "    </tr>\n",
       "    <tr>\n",
       "      <th>4</th>\n",
       "      <td>200</td>\n",
       "      <td>aiohttp_sleep_50_rps_100</td>\n",
       "      <td>51.54</td>\n",
       "    </tr>\n",
       "  </tbody>\n",
       "</table>\n",
       "</div>"
      ],
      "text/plain": [
       "   http_code                  exp_name  latency_ms\n",
       "0        200  aiohttp_sleep_50_rps_100       50.98\n",
       "1        200  aiohttp_sleep_50_rps_100       51.30\n",
       "2        200  aiohttp_sleep_50_rps_100       51.14\n",
       "3        200  aiohttp_sleep_50_rps_100       50.80\n",
       "4        200  aiohttp_sleep_50_rps_100       51.54"
      ]
     },
     "execution_count": 79,
     "metadata": {},
     "output_type": "execute_result"
    },
    {
     "data": {
      "image/png": "[encoded data removed]",
      "text/plain": [
       "<Figure size 842.4x595.44 with 1 Axes>"
      ]
     },
     "metadata": {},
     "output_type": "display_data"
    }
   ],
   "source": [
    "csv_file = aggr_exp([exp_name])\n",
    "exp_data = read_experiment(csv_file, warmup_time_sec=1)\n",
    "plot_exp_data(exp_data)\n",
    "exp_data.head()"
   ]
  },
  {
   "cell_type": "code",
   "execution_count": 161,
   "metadata": {},
   "outputs": [],
   "source": [
    "exp_names = []"
   ]
  },
  {
   "cell_type": "code",
   "execution_count": 162,
   "metadata": {},
   "outputs": [],
   "source": [
    "rps_list = [750, 1000, 1250]"
   ]
  },
  {
   "cell_type": "code",
   "execution_count": 172,
   "metadata": {},
   "outputs": [
    {
     "data": {
      "text/plain": [
       "[750, 1000, 1250]"
      ]
     },
     "execution_count": 172,
     "metadata": {},
     "output_type": "execute_result"
    }
   ],
   "source": [
    "rps_list"
   ]
  },
  {
   "cell_type": "code",
   "execution_count": 163,
   "metadata": {},
   "outputs": [],
   "source": [
    "from multiprocessing import Process\n",
    "\n",
    "def run_aiohttp():\n",
    "    subprocess.run('./aiohttp_server.py', shell=True)"
   ]
  },
  {
   "cell_type": "code",
   "execution_count": 170,
   "metadata": {},
   "outputs": [
    {
     "data": {
      "text/plain": [
       "True"
      ]
     },
     "execution_count": 170,
     "metadata": {},
     "output_type": "execute_result"
    }
   ],
   "source": [
    "p = Process(target=run_aiohttp)\n",
    "p.start()\n",
    "\n",
    "p.is_alive()\n",
    "p.terminate()"
   ]
  },
  {
   "cell_type": "markdown",
   "metadata": {},
   "source": [
    "# Asyncio 50ms"
   ]
  },
  {
   "cell_type": "code",
   "execution_count": 181,
   "metadata": {},
   "outputs": [],
   "source": [
    "def benchmark(start_server, exp_name: str, rps_list: list, exp_names: list):\n",
    "    \n",
    "    exp_name_ = exp_name\n",
    "    p = Process(target=run_aiohttp)\n",
    "    p.start()\n",
    "    time.sleep(0.2)\n",
    "    new_exp_names = []\n",
    "    for rps in rps_list:\n",
    "        exp_name = f'{exp_name_}_rps_{rps}'\n",
    "        exp_names.append(exp_name)\n",
    "        new_exp_names.append(exp_name)\n",
    "        run_experiment(exp_name, rps=rps)\n",
    "        time.sleep(1)\n",
    "\n",
    "    p.terminate()\n",
    "    time.sleep(0.2)"
   ]
  },
  {
   "cell_type": "code",
   "execution_count": null,
   "metadata": {},
   "outputs": [
    {
     "name": "stdout",
     "output_type": "stream",
     "text": [
      "CompletedProcess(args=\"\\n        echo 'GET http://localhost:8890/sleep50' | vegeta -cpus 1 attack -rate 750 -duration 5s -timeout 1s -name aiohttp_sleep_50_rps_750 -workers 1 > /tmp/aiohttp_sleep_50_rps_750.bin\\n    \", returncode=0)\n",
      "------------------------------\n",
      "Requests      [total, rate]            3750, 750.03\n",
      "Duration      [total, attack, wait]    5.050754353s, 4.99982828s, 50.926073ms\n",
      "Latencies     [mean, 50, 95, 99, max]  51.602972ms, 51.04313ms, 51.468167ms, 80.061867ms, 122.374932ms\n",
      "Bytes In      [total, mean]            0, 0.00\n",
      "Bytes Out     [total, mean]            0, 0.00\n",
      "Success       [ratio]                  100.00%\n",
      "Status Codes  [code:count]             200:3750  \n",
      "Error Set:\n",
      "\n"
     ]
    }
   ],
   "source": [
    "benchmark(run_aiohttp, 'aiohttp_sleep_50', rps_list, exp_names)"
   ]
  },
  {
   "cell_type": "code",
   "execution_count": 87,
   "metadata": {},
   "outputs": [
    {
     "name": "stdout",
     "output_type": "stream",
     "text": [
      "CompletedProcess(args=\"\\n        echo 'GET http://localhost:8890/sleep50' | vegeta -cpus 1 attack -rate 100 -duration 5s -timeout 1s -name aiohttp_sleep_50_rps_100 -workers 1 > /tmp/aiohttp_sleep_50_rps_100.bin\\n    \", returncode=0)\n",
      "------------------------------\n",
      "Requests      [total, rate]            500, 100.19\n",
      "Duration      [total, attack, wait]    5.042412459s, 4.990590191s, 51.822268ms\n",
      "Latencies     [mean, 50, 95, 99, max]  51.503584ms, 51.388425ms, 52.484992ms, 53.183655ms, 55.246466ms\n",
      "Bytes In      [total, mean]            0, 0.00\n",
      "Bytes Out     [total, mean]            0, 0.00\n",
      "Success       [ratio]                  100.00%\n",
      "Status Codes  [code:count]             200:500  \n",
      "Error Set:\n",
      "\n",
      "CompletedProcess(args=\"\\n        echo 'GET http://localhost:8890/sleep50' | vegeta -cpus 1 attack -rate 250 -duration 5s -timeout 1s -name aiohttp_sleep_50_rps_250 -workers 1 > /tmp/aiohttp_sleep_50_rps_250.bin\\n    \", returncode=0)\n",
      "------------------------------\n",
      "Requests      [total, rate]            1250, 250.13\n",
      "Duration      [total, attack, wait]    5.049190477s, 4.997405704s, 51.784773ms\n",
      "Latencies     [mean, 50, 95, 99, max]  51.522049ms, 51.516243ms, 52.002344ms, 52.868794ms, 54.982007ms\n",
      "Bytes In      [total, mean]            0, 0.00\n",
      "Bytes Out     [total, mean]            0, 0.00\n",
      "Success       [ratio]                  100.00%\n",
      "Status Codes  [code:count]             200:1250  \n",
      "Error Set:\n",
      "\n",
      "CompletedProcess(args=\"\\n        echo 'GET http://localhost:8890/sleep50' | vegeta -cpus 1 attack -rate 500 -duration 5s -timeout 1s -name aiohttp_sleep_50_rps_500 -workers 1 > /tmp/aiohttp_sleep_50_rps_500.bin\\n    \", returncode=0)\n",
      "------------------------------\n",
      "Requests      [total, rate]            2500, 500.07\n",
      "Duration      [total, attack, wait]    5.051022954s, 4.999252994s, 51.76996ms\n",
      "Latencies     [mean, 50, 95, 99, max]  51.143083ms, 50.894591ms, 51.375155ms, 55.913719ms, 89.425326ms\n",
      "Bytes In      [total, mean]            0, 0.00\n",
      "Bytes Out     [total, mean]            0, 0.00\n",
      "Success       [ratio]                  100.00%\n",
      "Status Codes  [code:count]             200:2500  \n",
      "Error Set:\n",
      "\n",
      "CompletedProcess(args=\"\\n        echo 'GET http://localhost:8890/sleep50' | vegeta -cpus 1 attack -rate 750 -duration 5s -timeout 1s -name aiohttp_sleep_50_rps_750 -workers 1 > /tmp/aiohttp_sleep_50_rps_750.bin\\n    \", returncode=0)\n",
      "------------------------------\n",
      "Requests      [total, rate]            3750, 750.04\n",
      "Duration      [total, attack, wait]    5.051037443s, 4.999723054s, 51.314389ms\n",
      "Latencies     [mean, 50, 95, 99, max]  51.517379ms, 51.069236ms, 51.520939ms, 72.796537ms, 114.712949ms\n",
      "Bytes In      [total, mean]            0, 0.00\n",
      "Bytes Out     [total, mean]            0, 0.00\n",
      "Success       [ratio]                  100.00%\n",
      "Status Codes  [code:count]             200:3750  \n",
      "Error Set:\n",
      "\n"
     ]
    }
   ],
   "source": [
    "p = Process(target=run_aiohttp)\n",
    "p.start()\n",
    "time.sleep(0.2)\n",
    "\n",
    "for rps in rps_list:\n",
    "    exp_name = f'aiohttp_sleep_50_rps_{rps}'\n",
    "    exp_names.append(exp_name)\n",
    "    run_experiment(exp_name, rps=rps)\n",
    "    time.sleep(1)\n",
    "    \n",
    "p.terminate()\n",
    "time.sleep(0.2)\n"
   ]
  },
  {
   "cell_type": "markdown",
   "metadata": {},
   "source": [
    "# Asyncio uvloop 50ms"
   ]
  },
  {
   "cell_type": "code",
   "execution_count": 88,
   "metadata": {},
   "outputs": [
    {
     "name": "stdout",
     "output_type": "stream",
     "text": [
      "CompletedProcess(args=\"\\n        echo 'GET http://localhost:8890/sleep50' | vegeta -cpus 1 attack -rate 100 -duration 5s -timeout 1s -name aiohttp_uvloop_sleep_50_rps_100 -workers 1 > /tmp/aiohttp_uvloop_sleep_50_rps_100.bin\\n    \", returncode=0)\n",
      "------------------------------\n",
      "Requests      [total, rate]            500, 100.16\n",
      "Duration      [total, attack, wait]    5.045209514s, 4.991767547s, 53.441967ms\n",
      "Latencies     [mean, 50, 95, 99, max]  51.50039ms, 51.480431ms, 52.645459ms, 53.387216ms, 56.96316ms\n",
      "Bytes In      [total, mean]            0, 0.00\n",
      "Bytes Out     [total, mean]            0, 0.00\n",
      "Success       [ratio]                  100.00%\n",
      "Status Codes  [code:count]             200:500  \n",
      "Error Set:\n",
      "\n",
      "CompletedProcess(args=\"\\n        echo 'GET http://localhost:8890/sleep50' | vegeta -cpus 1 attack -rate 250 -duration 5s -timeout 1s -name aiohttp_uvloop_sleep_50_rps_250 -workers 1 > /tmp/aiohttp_uvloop_sleep_50_rps_250.bin\\n    \", returncode=0)\n",
      "------------------------------\n",
      "Requests      [total, rate]            1250, 250.16\n",
      "Duration      [total, attack, wait]    5.048519877s, 4.996776194s, 51.743683ms\n",
      "Latencies     [mean, 50, 95, 99, max]  51.538442ms, 51.558422ms, 52.484107ms, 52.851239ms, 55.048771ms\n",
      "Bytes In      [total, mean]            0, 0.00\n",
      "Bytes Out     [total, mean]            0, 0.00\n",
      "Success       [ratio]                  100.00%\n",
      "Status Codes  [code:count]             200:1250  \n",
      "Error Set:\n",
      "\n",
      "CompletedProcess(args=\"\\n        echo 'GET http://localhost:8890/sleep50' | vegeta -cpus 1 attack -rate 500 -duration 5s -timeout 1s -name aiohttp_uvloop_sleep_50_rps_500 -workers 1 > /tmp/aiohttp_uvloop_sleep_50_rps_500.bin\\n    \", returncode=0)\n",
      "------------------------------\n",
      "Requests      [total, rate]            2500, 500.12\n",
      "Duration      [total, attack, wait]    5.050202249s, 4.998790846s, 51.411403ms\n",
      "Latencies     [mean, 50, 95, 99, max]  51.06352ms, 50.852756ms, 52.120855ms, 53.391623ms, 82.173017ms\n",
      "Bytes In      [total, mean]            0, 0.00\n",
      "Bytes Out     [total, mean]            0, 0.00\n",
      "Success       [ratio]                  100.00%\n",
      "Status Codes  [code:count]             200:2500  \n",
      "Error Set:\n",
      "\n",
      "CompletedProcess(args=\"\\n        echo 'GET http://localhost:8890/sleep50' | vegeta -cpus 1 attack -rate 750 -duration 5s -timeout 1s -name aiohttp_uvloop_sleep_50_rps_750 -workers 1 > /tmp/aiohttp_uvloop_sleep_50_rps_750.bin\\n    \", returncode=0)\n",
      "------------------------------\n",
      "Requests      [total, rate]            3750, 750.03\n",
      "Duration      [total, attack, wait]    5.051446647s, 4.999795908s, 51.650739ms\n",
      "Latencies     [mean, 50, 95, 99, max]  51.285336ms, 50.933103ms, 51.853714ms, 68.596921ms, 108.275195ms\n",
      "Bytes In      [total, mean]            0, 0.00\n",
      "Bytes Out     [total, mean]            0, 0.00\n",
      "Success       [ratio]                  100.00%\n",
      "Status Codes  [code:count]             200:3750  \n",
      "Error Set:\n",
      "\n"
     ]
    }
   ],
   "source": [
    "rps_list = [100, 250, 500, 750,]\n",
    "for rps in rps_list:\n",
    "    exp_name = f'aiohttp_uvloop_sleep_50_rps_{rps}'\n",
    "    exp_names.append(exp_name)\n",
    "    run_experiment(exp_name, rps=rps)\n",
    "    time.sleep(1)"
   ]
  },
  {
   "cell_type": "markdown",
   "metadata": {},
   "source": [
    "# Tornado"
   ]
  },
  {
   "cell_type": "code",
   "execution_count": 144,
   "metadata": {},
   "outputs": [
    {
     "name": "stdout",
     "output_type": "stream",
     "text": [
      "CompletedProcess(args=\"\\n        echo 'GET http://localhost:8890/sleep50' | vegeta -cpus 1 attack -rate 100 -duration 5s -timeout 1s -name tornado_sleep_50_rps_100 -workers 1 > /tmp/tornado_sleep_50_rps_100.bin\\n    \", returncode=0)\n",
      "------------------------------\n",
      "Requests      [total, rate]            500, 100.16\n",
      "Duration      [total, attack, wait]    5.04506166s, 4.992030391s, 53.031269ms\n",
      "Latencies     [mean, 50, 95, 99, max]  52.268297ms, 52.186308ms, 53.153513ms, 54.370849ms, 56.533153ms\n",
      "Bytes In      [total, mean]            0, 0.00\n",
      "Bytes Out     [total, mean]            0, 0.00\n",
      "Success       [ratio]                  100.00%\n",
      "Status Codes  [code:count]             200:500  \n",
      "Error Set:\n",
      "\n",
      "CompletedProcess(args=\"\\n        echo 'GET http://localhost:8890/sleep50' | vegeta -cpus 1 attack -rate 250 -duration 5s -timeout 1s -name tornado_sleep_50_rps_250 -workers 1 > /tmp/tornado_sleep_50_rps_250.bin\\n    \", returncode=0)\n",
      "------------------------------\n",
      "Requests      [total, rate]            1250, 250.11\n",
      "Duration      [total, attack, wait]    5.050634287s, 4.997881688s, 52.752599ms\n",
      "Latencies     [mean, 50, 95, 99, max]  52.274072ms, 52.23908ms, 53.083369ms, 53.598721ms, 58.272388ms\n",
      "Bytes In      [total, mean]            0, 0.00\n",
      "Bytes Out     [total, mean]            0, 0.00\n",
      "Success       [ratio]                  100.00%\n",
      "Status Codes  [code:count]             200:1250  \n",
      "Error Set:\n",
      "\n",
      "CompletedProcess(args=\"\\n        echo 'GET http://localhost:8890/sleep50' | vegeta -cpus 1 attack -rate 500 -duration 5s -timeout 1s -name tornado_sleep_50_rps_500 -workers 1 > /tmp/tornado_sleep_50_rps_500.bin\\n    \", returncode=0)\n",
      "------------------------------\n",
      "Requests      [total, rate]            2500, 500.08\n",
      "Duration      [total, attack, wait]    5.051134399s, 4.999213457s, 51.920942ms\n",
      "Latencies     [mean, 50, 95, 99, max]  51.654024ms, 51.55496ms, 52.201448ms, 54.048396ms, 84.344421ms\n",
      "Bytes In      [total, mean]            0, 0.00\n",
      "Bytes Out     [total, mean]            0, 0.00\n",
      "Success       [ratio]                  100.00%\n",
      "Status Codes  [code:count]             200:2500  \n",
      "Error Set:\n",
      "\n",
      "CompletedProcess(args=\"\\n        echo 'GET http://localhost:8890/sleep50' | vegeta -cpus 1 attack -rate 750 -duration 5s -timeout 1s -name tornado_sleep_50_rps_750 -workers 1 > /tmp/tornado_sleep_50_rps_750.bin\\n    \", returncode=0)\n",
      "------------------------------\n",
      "Requests      [total, rate]            3750, 750.06\n",
      "Duration      [total, attack, wait]    5.050856207s, 4.999599821s, 51.256386ms\n",
      "Latencies     [mean, 50, 95, 99, max]  51.754217ms, 51.399039ms, 52.084187ms, 66.07379ms, 96.3687ms\n",
      "Bytes In      [total, mean]            0, 0.00\n",
      "Bytes Out     [total, mean]            0, 0.00\n",
      "Success       [ratio]                  100.00%\n",
      "Status Codes  [code:count]             200:3750  \n",
      "Error Set:\n",
      "\n"
     ]
    }
   ],
   "source": [
    "rps_list = [100, 250, 500, 750,]\n",
    "for rps in rps_list:\n",
    "    exp_name = f'tornado_sleep_50_rps_{rps}'\n",
    "    exp_names.append(exp_name)\n",
    "    run_experiment(exp_name, rps=rps)\n",
    "    time.sleep(1)"
   ]
  },
  {
   "cell_type": "markdown",
   "metadata": {},
   "source": [
    "# Tornado uvloop"
   ]
  },
  {
   "cell_type": "code",
   "execution_count": 152,
   "metadata": {},
   "outputs": [
    {
     "name": "stdout",
     "output_type": "stream",
     "text": [
      "CompletedProcess(args=\"\\n        echo 'GET http://localhost:8890/sleep50' | vegeta -cpus 1 attack -rate 100 -duration 5s -timeout 1s -name tornado_uvloop_sleep_50_rps_100 -workers 1 > /tmp/tornado_uvloop_sleep_50_rps_100.bin\\n    \", returncode=0)\n",
      "------------------------------\n",
      "Requests      [total, rate]            500, 100.19\n",
      "Duration      [total, attack, wait]    5.043127319s, 4.990482096s, 52.645223ms\n",
      "Latencies     [mean, 50, 95, 99, max]  51.343196ms, 51.333996ms, 52.361073ms, 52.744597ms, 54.200573ms\n",
      "Bytes In      [total, mean]            0, 0.00\n",
      "Bytes Out     [total, mean]            0, 0.00\n",
      "Success       [ratio]                  100.00%\n",
      "Status Codes  [code:count]             200:500  \n",
      "Error Set:\n",
      "\n",
      "CompletedProcess(args=\"\\n        echo 'GET http://localhost:8890/sleep50' | vegeta -cpus 1 attack -rate 250 -duration 5s -timeout 1s -name tornado_uvloop_sleep_50_rps_250 -workers 1 > /tmp/tornado_uvloop_sleep_50_rps_250.bin\\n    \", returncode=0)\n",
      "------------------------------\n",
      "Requests      [total, rate]            1250, 250.15\n",
      "Duration      [total, attack, wait]    5.049523392s, 4.996911367s, 52.612025ms\n",
      "Latencies     [mean, 50, 95, 99, max]  50.701824ms, 50.703255ms, 51.900357ms, 52.615022ms, 56.366114ms\n",
      "Bytes In      [total, mean]            0, 0.00\n",
      "Bytes Out     [total, mean]            0, 0.00\n",
      "Success       [ratio]                  100.00%\n",
      "Status Codes  [code:count]             200:1250  \n",
      "Error Set:\n",
      "\n",
      "CompletedProcess(args=\"\\n        echo 'GET http://localhost:8890/sleep50' | vegeta -cpus 1 attack -rate 500 -duration 5s -timeout 1s -name tornado_uvloop_sleep_50_rps_500 -workers 1 > /tmp/tornado_uvloop_sleep_50_rps_500.bin\\n    \", returncode=0)\n",
      "------------------------------\n",
      "Requests      [total, rate]            2500, 500.11\n",
      "Duration      [total, attack, wait]    5.049233187s, 4.998872906s, 50.360281ms\n",
      "Latencies     [mean, 50, 95, 99, max]  50.607726ms, 50.382281ms, 51.360279ms, 59.574545ms, 89.635469ms\n",
      "Bytes In      [total, mean]            0, 0.00\n",
      "Bytes Out     [total, mean]            0, 0.00\n",
      "Success       [ratio]                  100.00%\n",
      "Status Codes  [code:count]             200:2500  \n",
      "Error Set:\n",
      "\n",
      "CompletedProcess(args=\"\\n        echo 'GET http://localhost:8890/sleep50' | vegeta -cpus 1 attack -rate 750 -duration 5s -timeout 1s -name tornado_uvloop_sleep_50_rps_750 -workers 1 > /tmp/tornado_uvloop_sleep_50_rps_750.bin\\n    \", returncode=0)\n",
      "------------------------------\n",
      "Requests      [total, rate]            3750, 750.01\n",
      "Duration      [total, attack, wait]    5.049733333s, 4.999905904s, 49.827429ms\n",
      "Latencies     [mean, 50, 95, 99, max]  50.553984ms, 50.241177ms, 51.776856ms, 62.232246ms, 92.139265ms\n",
      "Bytes In      [total, mean]            0, 0.00\n",
      "Bytes Out     [total, mean]            0, 0.00\n",
      "Success       [ratio]                  100.00%\n",
      "Status Codes  [code:count]             200:3750  \n",
      "Error Set:\n",
      "\n"
     ]
    }
   ],
   "source": [
    "rps_list = [100, 250, 500, 750,]\n",
    "for rps in rps_list:\n",
    "    exp_name = f'tornado_uvloop_sleep_50_rps_{rps}'\n",
    "    exp_names.append(exp_name)\n",
    "    run_experiment(exp_name, rps=rps)\n",
    "    time.sleep(1)"
   ]
  },
  {
   "cell_type": "code",
   "execution_count": 153,
   "metadata": {},
   "outputs": [
    {
     "data": {
      "text/plain": [
       "['aiohttp_sleep_50_rps_100',\n",
       " 'aiohttp_sleep_50_rps_250',\n",
       " 'aiohttp_sleep_50_rps_500',\n",
       " 'aiohttp_sleep_50_rps_750',\n",
       " 'aiohttp_uvloop_sleep_50_rps_100',\n",
       " 'aiohttp_uvloop_sleep_50_rps_250',\n",
       " 'aiohttp_uvloop_sleep_50_rps_500',\n",
       " 'aiohttp_uvloop_sleep_50_rps_750',\n",
       " 'tornado_sleep_50_rps_100',\n",
       " 'tornado_sleep_50_rps_250',\n",
       " 'tornado_sleep_50_rps_500',\n",
       " 'tornado_sleep_50_rps_750',\n",
       " 'tornado_uvloop_sleep_50_rps_100',\n",
       " 'tornado_uvloop_sleep_50_rps_250',\n",
       " 'tornado_uvloop_sleep_50_rps_500',\n",
       " 'tornado_uvloop_sleep_50_rps_750']"
      ]
     },
     "execution_count": 153,
     "metadata": {},
     "output_type": "execute_result"
    }
   ],
   "source": [
    "exp_names"
   ]
  },
  {
   "cell_type": "code",
   "execution_count": 154,
   "metadata": {},
   "outputs": [
    {
     "name": "stdout",
     "output_type": "stream",
     "text": [
      "CompletedProcess(args='vegeta dump -inputs /tmp/aiohttp_sleep_50_rps_100.bin,/tmp/aiohttp_sleep_50_rps_250.bin,/tmp/aiohttp_sleep_50_rps_500.bin,/tmp/aiohttp_sleep_50_rps_750.bin,/tmp/aiohttp_uvloop_sleep_50_rps_100.bin,/tmp/aiohttp_uvloop_sleep_50_rps_250.bin,/tmp/aiohttp_uvloop_sleep_50_rps_500.bin,/tmp/aiohttp_uvloop_sleep_50_rps_750.bin,/tmp/tornado_sleep_50_rps_100.bin,/tmp/tornado_sleep_50_rps_250.bin,/tmp/tornado_sleep_50_rps_500.bin,/tmp/tornado_sleep_50_rps_750.bin,/tmp/tornado_uvloop_sleep_50_rps_100.bin,/tmp/tornado_uvloop_sleep_50_rps_250.bin,/tmp/tornado_uvloop_sleep_50_rps_500.bin,/tmp/tornado_uvloop_sleep_50_rps_750.bin -output /tmp/out.csv -dumper csv', returncode=0)\n"
     ]
    },
    {
     "data": {
      "text/html": [
       "<div>\n",
       "<style scoped>\n",
       "    .dataframe tbody tr th:only-of-type {\n",
       "        vertical-align: middle;\n",
       "    }\n",
       "\n",
       "    .dataframe tbody tr th {\n",
       "        vertical-align: top;\n",
       "    }\n",
       "\n",
       "    .dataframe thead th {\n",
       "        text-align: right;\n",
       "    }\n",
       "</style>\n",
       "<table border=\"1\" class=\"dataframe\">\n",
       "  <thead>\n",
       "    <tr style=\"text-align: right;\">\n",
       "      <th></th>\n",
       "      <th>http_code</th>\n",
       "      <th>exp_name</th>\n",
       "      <th>latency_ms</th>\n",
       "    </tr>\n",
       "  </thead>\n",
       "  <tbody>\n",
       "    <tr>\n",
       "      <th>0</th>\n",
       "      <td>200</td>\n",
       "      <td>aiohttp_sleep_50_rps_250</td>\n",
       "      <td>54.25</td>\n",
       "    </tr>\n",
       "    <tr>\n",
       "      <th>1</th>\n",
       "      <td>200</td>\n",
       "      <td>aiohttp_sleep_50_rps_500</td>\n",
       "      <td>89.43</td>\n",
       "    </tr>\n",
       "    <tr>\n",
       "      <th>2</th>\n",
       "      <td>200</td>\n",
       "      <td>aiohttp_sleep_50_rps_750</td>\n",
       "      <td>114.71</td>\n",
       "    </tr>\n",
       "    <tr>\n",
       "      <th>3</th>\n",
       "      <td>200</td>\n",
       "      <td>aiohttp_uvloop_sleep_50_rps_100</td>\n",
       "      <td>56.96</td>\n",
       "    </tr>\n",
       "    <tr>\n",
       "      <th>4</th>\n",
       "      <td>200</td>\n",
       "      <td>aiohttp_uvloop_sleep_50_rps_250</td>\n",
       "      <td>53.45</td>\n",
       "    </tr>\n",
       "  </tbody>\n",
       "</table>\n",
       "</div>"
      ],
      "text/plain": [
       "   http_code                         exp_name  latency_ms\n",
       "0        200         aiohttp_sleep_50_rps_250       54.25\n",
       "1        200         aiohttp_sleep_50_rps_500       89.43\n",
       "2        200         aiohttp_sleep_50_rps_750      114.71\n",
       "3        200  aiohttp_uvloop_sleep_50_rps_100       56.96\n",
       "4        200  aiohttp_uvloop_sleep_50_rps_250       53.45"
      ]
     },
     "execution_count": 154,
     "metadata": {},
     "output_type": "execute_result"
    }
   ],
   "source": [
    "csv_file = aggr_exp(exp_names)\n",
    "exp_data = read_experiment(csv_file, warmup_time_sec=1)\n",
    "# plot_exp_data(exp_data)\n",
    "exp_data.head()"
   ]
  },
  {
   "cell_type": "code",
   "execution_count": 157,
   "metadata": {},
   "outputs": [],
   "source": [
    "df = latency_table(exp_data)"
   ]
  },
  {
   "cell_type": "code",
   "execution_count": 160,
   "metadata": {},
   "outputs": [
    {
     "data": {
      "text/html": [
       "<div>\n",
       "<style scoped>\n",
       "    .dataframe tbody tr th:only-of-type {\n",
       "        vertical-align: middle;\n",
       "    }\n",
       "\n",
       "    .dataframe tbody tr th {\n",
       "        vertical-align: top;\n",
       "    }\n",
       "\n",
       "    .dataframe thead th {\n",
       "        text-align: right;\n",
       "    }\n",
       "</style>\n",
       "<table border=\"1\" class=\"dataframe\">\n",
       "  <thead>\n",
       "    <tr style=\"text-align: right;\">\n",
       "      <th>level_1</th>\n",
       "      <th>exp_name</th>\n",
       "      <th>0.95</th>\n",
       "      <th>0.98</th>\n",
       "      <th>0.99</th>\n",
       "    </tr>\n",
       "    <tr>\n",
       "      <th>rps</th>\n",
       "      <th></th>\n",
       "      <th></th>\n",
       "      <th></th>\n",
       "      <th></th>\n",
       "    </tr>\n",
       "  </thead>\n",
       "  <tbody>\n",
       "    <tr>\n",
       "      <th>100</th>\n",
       "      <td>aiohttp_sleep_50</td>\n",
       "      <td>52.4</td>\n",
       "      <td>52.9</td>\n",
       "      <td>53.1</td>\n",
       "    </tr>\n",
       "    <tr>\n",
       "      <th>100</th>\n",
       "      <td>aiohttp_uvloop_sleep_50</td>\n",
       "      <td>52.6</td>\n",
       "      <td>53.0</td>\n",
       "      <td>53.3</td>\n",
       "    </tr>\n",
       "    <tr>\n",
       "      <th>100</th>\n",
       "      <td>tornado_sleep_50</td>\n",
       "      <td>53.1</td>\n",
       "      <td>53.6</td>\n",
       "      <td>54.4</td>\n",
       "    </tr>\n",
       "    <tr>\n",
       "      <th>100</th>\n",
       "      <td>tornado_uvloop_sleep_50</td>\n",
       "      <td>52.4</td>\n",
       "      <td>52.6</td>\n",
       "      <td>52.7</td>\n",
       "    </tr>\n",
       "    <tr>\n",
       "      <th>250</th>\n",
       "      <td>aiohttp_sleep_50</td>\n",
       "      <td>52.0</td>\n",
       "      <td>52.2</td>\n",
       "      <td>52.8</td>\n",
       "    </tr>\n",
       "    <tr>\n",
       "      <th>250</th>\n",
       "      <td>aiohttp_uvloop_sleep_50</td>\n",
       "      <td>52.5</td>\n",
       "      <td>52.7</td>\n",
       "      <td>52.8</td>\n",
       "    </tr>\n",
       "    <tr>\n",
       "      <th>250</th>\n",
       "      <td>tornado_sleep_50</td>\n",
       "      <td>53.1</td>\n",
       "      <td>53.4</td>\n",
       "      <td>53.6</td>\n",
       "    </tr>\n",
       "    <tr>\n",
       "      <th>250</th>\n",
       "      <td>tornado_uvloop_sleep_50</td>\n",
       "      <td>51.9</td>\n",
       "      <td>52.3</td>\n",
       "      <td>52.6</td>\n",
       "    </tr>\n",
       "    <tr>\n",
       "      <th>500</th>\n",
       "      <td>aiohttp_sleep_50</td>\n",
       "      <td>51.4</td>\n",
       "      <td>51.9</td>\n",
       "      <td>55.0</td>\n",
       "    </tr>\n",
       "    <tr>\n",
       "      <th>500</th>\n",
       "      <td>aiohttp_uvloop_sleep_50</td>\n",
       "      <td>52.1</td>\n",
       "      <td>52.3</td>\n",
       "      <td>53.3</td>\n",
       "    </tr>\n",
       "    <tr>\n",
       "      <th>500</th>\n",
       "      <td>tornado_sleep_50</td>\n",
       "      <td>52.2</td>\n",
       "      <td>52.5</td>\n",
       "      <td>53.5</td>\n",
       "    </tr>\n",
       "    <tr>\n",
       "      <th>500</th>\n",
       "      <td>tornado_uvloop_sleep_50</td>\n",
       "      <td>51.4</td>\n",
       "      <td>52.4</td>\n",
       "      <td>58.8</td>\n",
       "    </tr>\n",
       "    <tr>\n",
       "      <th>750</th>\n",
       "      <td>aiohttp_sleep_50</td>\n",
       "      <td>51.5</td>\n",
       "      <td>53.4</td>\n",
       "      <td>73.9</td>\n",
       "    </tr>\n",
       "    <tr>\n",
       "      <th>750</th>\n",
       "      <td>aiohttp_uvloop_sleep_50</td>\n",
       "      <td>51.8</td>\n",
       "      <td>52.8</td>\n",
       "      <td>65.8</td>\n",
       "    </tr>\n",
       "    <tr>\n",
       "      <th>750</th>\n",
       "      <td>tornado_sleep_50</td>\n",
       "      <td>52.1</td>\n",
       "      <td>54.4</td>\n",
       "      <td>66.7</td>\n",
       "    </tr>\n",
       "    <tr>\n",
       "      <th>750</th>\n",
       "      <td>tornado_uvloop_sleep_50</td>\n",
       "      <td>51.8</td>\n",
       "      <td>52.5</td>\n",
       "      <td>62.2</td>\n",
       "    </tr>\n",
       "  </tbody>\n",
       "</table>\n",
       "</div>"
      ],
      "text/plain": [
       "level_1                 exp_name  0.95  0.98  0.99\n",
       "rps                                               \n",
       "100             aiohttp_sleep_50  52.4  52.9  53.1\n",
       "100      aiohttp_uvloop_sleep_50  52.6  53.0  53.3\n",
       "100             tornado_sleep_50  53.1  53.6  54.4\n",
       "100      tornado_uvloop_sleep_50  52.4  52.6  52.7\n",
       "250             aiohttp_sleep_50  52.0  52.2  52.8\n",
       "250      aiohttp_uvloop_sleep_50  52.5  52.7  52.8\n",
       "250             tornado_sleep_50  53.1  53.4  53.6\n",
       "250      tornado_uvloop_sleep_50  51.9  52.3  52.6\n",
       "500             aiohttp_sleep_50  51.4  51.9  55.0\n",
       "500      aiohttp_uvloop_sleep_50  52.1  52.3  53.3\n",
       "500             tornado_sleep_50  52.2  52.5  53.5\n",
       "500      tornado_uvloop_sleep_50  51.4  52.4  58.8\n",
       "750             aiohttp_sleep_50  51.5  53.4  73.9\n",
       "750      aiohttp_uvloop_sleep_50  51.8  52.8  65.8\n",
       "750             tornado_sleep_50  52.1  54.4  66.7\n",
       "750      tornado_uvloop_sleep_50  51.8  52.5  62.2"
      ]
     },
     "execution_count": 160,
     "metadata": {},
     "output_type": "execute_result"
    }
   ],
   "source": [
    "df"
   ]
  },
  {
   "cell_type": "code",
   "execution_count": null,
   "metadata": {},
   "outputs": [],
   "source": []
  }
 ],
 "metadata": {
  "kernelspec": {
   "display_name": "Python 3",
   "language": "python",
   "name": "python3"
  },
  "language_info": {
   "codemirror_mode": {
    "name": "ipython",
    "version": 3
   },
   "file_extension": ".py",
   "mimetype": "text/x-python",
   "name": "python",
   "nbconvert_exporter": "python",
   "pygments_lexer": "ipython3",
   "version": "3.6.5"
  }
 },
 "nbformat": 4,
 "nbformat_minor": 2
}
