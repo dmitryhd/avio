{
 "cells": [
  {
   "cell_type": "markdown",
   "metadata": {},
   "source": [
    "- ./bin/sample_service.py # run service\n",
    "- locust -f benchmark/locustfile.py --host=http://127.0.0.1:8890  # run locust\n",
    "- open web ui http://127.0.0.1:8089/\n",
    "\n",
    "docs at https://docs.locust.io/en/stable/quickstart.html"
   ]
  },
  {
   "cell_type": "markdown",
   "metadata": {},
   "source": [
    "- `locust -f benchmark/sleep50_locust.py --master --host=http://127.0.0.1:8890`\n",
    "- `locust -f benchmark/sleep50_locust.py --slave --host=http://127.0.0.1:8890`"
   ]
  },
  {
   "cell_type": "markdown",
   "metadata": {},
   "source": [
    "\n",
    "go\n"
   ]
  },
  {
   "cell_type": "markdown",
   "metadata": {},
   "source": [
    "```\n",
    "locust -f benchmark/dummy.py --master --master-bind-host=127.0.0.1 --master-bind-port=5557\n",
    "\n",
    "cd benchmark/boomer\n",
    "go build -o a.out http_benchmark.go\n",
    "\n",
    "./a.out --url=http://127.0.0.1:8890/sleep50 --master-port=5557 --rpc=zeromq\n",
    "```"
   ]
  },
  {
   "cell_type": "code",
   "execution_count": 1,
   "metadata": {
    "ExecuteTime": {
     "end_time": "2018-06-07T20:32:10.988920Z",
     "start_time": "2018-06-07T20:32:10.979538Z"
    }
   },
   "outputs": [],
   "source": [
    "run_locust_master = 'locust -f dummy.py --master --master-bind-host=127.0.0.1 --master-bind-port=5557 --csv=foobar --no-web -c 100 -r 100 -n 1000'\n",
    "run_locust_slave = './a.out --url=http://127.0.0.1:8890/sleep50 --master-port=5557 --rpc=zeromq'"
   ]
  },
  {
   "cell_type": "code",
   "execution_count": 2,
   "metadata": {
    "ExecuteTime": {
     "end_time": "2018-06-07T20:37:43.290590Z",
     "start_time": "2018-06-07T20:37:43.282600Z"
    }
   },
   "outputs": [],
   "source": [
    "import os"
   ]
  },
  {
   "cell_type": "code",
   "execution_count": 3,
   "metadata": {
    "ExecuteTime": {
     "end_time": "2018-06-07T20:38:04.750761Z",
     "start_time": "2018-06-07T20:37:43.725875Z"
    }
   },
   "outputs": [
    {
     "data": {
      "text/plain": [
       "0"
      ]
     },
     "execution_count": 3,
     "metadata": {},
     "output_type": "execute_result"
    }
   ],
   "source": [
    "os.system('./run_locust.sh 10')"
   ]
  },
  {
   "cell_type": "code",
   "execution_count": 4,
   "metadata": {
    "ExecuteTime": {
     "end_time": "2018-06-07T20:38:11.967124Z",
     "start_time": "2018-06-07T20:38:11.632912Z"
    }
   },
   "outputs": [],
   "source": [
    "import pandas as pd"
   ]
  },
  {
   "cell_type": "code",
   "execution_count": 5,
   "metadata": {
    "ExecuteTime": {
     "end_time": "2018-06-07T20:38:19.164830Z",
     "start_time": "2018-06-07T20:38:19.130465Z"
    }
   },
   "outputs": [
    {
     "data": {
      "text/html": [
       "<div>\n",
       "<style scoped>\n",
       "    .dataframe tbody tr th:only-of-type {\n",
       "        vertical-align: middle;\n",
       "    }\n",
       "\n",
       "    .dataframe tbody tr th {\n",
       "        vertical-align: top;\n",
       "    }\n",
       "\n",
       "    .dataframe thead th {\n",
       "        text-align: right;\n",
       "    }\n",
       "</style>\n",
       "<table border=\"1\" class=\"dataframe\">\n",
       "  <thead>\n",
       "    <tr style=\"text-align: right;\">\n",
       "      <th></th>\n",
       "      <th>Name</th>\n",
       "      <th># requests</th>\n",
       "      <th>50%</th>\n",
       "      <th>66%</th>\n",
       "      <th>75%</th>\n",
       "      <th>80%</th>\n",
       "      <th>90%</th>\n",
       "      <th>95%</th>\n",
       "      <th>98%</th>\n",
       "      <th>99%</th>\n",
       "      <th>100%</th>\n",
       "    </tr>\n",
       "  </thead>\n",
       "  <tbody>\n",
       "    <tr>\n",
       "      <th>0</th>\n",
       "      <td>http 200</td>\n",
       "      <td>3280</td>\n",
       "      <td>53</td>\n",
       "      <td>54</td>\n",
       "      <td>54</td>\n",
       "      <td>54</td>\n",
       "      <td>55</td>\n",
       "      <td>56</td>\n",
       "      <td>56</td>\n",
       "      <td>57</td>\n",
       "      <td>59</td>\n",
       "    </tr>\n",
       "    <tr>\n",
       "      <th>1</th>\n",
       "      <td>None Total</td>\n",
       "      <td>3280</td>\n",
       "      <td>53</td>\n",
       "      <td>54</td>\n",
       "      <td>54</td>\n",
       "      <td>54</td>\n",
       "      <td>55</td>\n",
       "      <td>56</td>\n",
       "      <td>56</td>\n",
       "      <td>57</td>\n",
       "      <td>59</td>\n",
       "    </tr>\n",
       "  </tbody>\n",
       "</table>\n",
       "</div>"
      ],
      "text/plain": [
       "         Name  # requests  50%  66%  75%  80%  90%  95%  98%  99%  100%\n",
       "0    http 200        3280   53   54   54   54   55   56   56   57    59\n",
       "1  None Total        3280   53   54   54   54   55   56   56   57    59"
      ]
     },
     "execution_count": 5,
     "metadata": {},
     "output_type": "execute_result"
    }
   ],
   "source": [
    "pd.read_csv('foobar_distribution.csv')"
   ]
  },
  {
   "cell_type": "code",
   "execution_count": 6,
   "metadata": {
    "ExecuteTime": {
     "end_time": "2018-06-07T20:38:37.032174Z",
     "start_time": "2018-06-07T20:38:37.001687Z"
    }
   },
   "outputs": [
    {
     "data": {
      "text/html": [
       "<div>\n",
       "<style scoped>\n",
       "    .dataframe tbody tr th:only-of-type {\n",
       "        vertical-align: middle;\n",
       "    }\n",
       "\n",
       "    .dataframe tbody tr th {\n",
       "        vertical-align: top;\n",
       "    }\n",
       "\n",
       "    .dataframe thead th {\n",
       "        text-align: right;\n",
       "    }\n",
       "</style>\n",
       "<table border=\"1\" class=\"dataframe\">\n",
       "  <thead>\n",
       "    <tr style=\"text-align: right;\">\n",
       "      <th></th>\n",
       "      <th>Method</th>\n",
       "      <th>Name</th>\n",
       "      <th># requests</th>\n",
       "      <th># failures</th>\n",
       "      <th>Median response time</th>\n",
       "      <th>Average response time</th>\n",
       "      <th>Min response time</th>\n",
       "      <th>Max response time</th>\n",
       "      <th>Average Content Size</th>\n",
       "      <th>Requests/s</th>\n",
       "    </tr>\n",
       "  </thead>\n",
       "  <tbody>\n",
       "    <tr>\n",
       "      <th>0</th>\n",
       "      <td>http</td>\n",
       "      <td>200</td>\n",
       "      <td>3280</td>\n",
       "      <td>0</td>\n",
       "      <td>53</td>\n",
       "      <td>52</td>\n",
       "      <td>50</td>\n",
       "      <td>59</td>\n",
       "      <td>2</td>\n",
       "      <td>207.57</td>\n",
       "    </tr>\n",
       "    <tr>\n",
       "      <th>1</th>\n",
       "      <td>None</td>\n",
       "      <td>Total</td>\n",
       "      <td>3280</td>\n",
       "      <td>0</td>\n",
       "      <td>53</td>\n",
       "      <td>52</td>\n",
       "      <td>50</td>\n",
       "      <td>59</td>\n",
       "      <td>2</td>\n",
       "      <td>207.57</td>\n",
       "    </tr>\n",
       "  </tbody>\n",
       "</table>\n",
       "</div>"
      ],
      "text/plain": [
       "  Method   Name  # requests  # failures  Median response time  \\\n",
       "0   http    200        3280           0                    53   \n",
       "1   None  Total        3280           0                    53   \n",
       "\n",
       "   Average response time  Min response time  Max response time  \\\n",
       "0                     52                 50                 59   \n",
       "1                     52                 50                 59   \n",
       "\n",
       "   Average Content Size  Requests/s  \n",
       "0                     2      207.57  \n",
       "1                     2      207.57  "
      ]
     },
     "execution_count": 6,
     "metadata": {},
     "output_type": "execute_result"
    }
   ],
   "source": [
    "pd.read_csv('foobar_requests.csv')"
   ]
  },
  {
   "cell_type": "code",
   "execution_count": 62,
   "metadata": {
    "ExecuteTime": {
     "end_time": "2018-06-07T21:04:54.971761Z",
     "start_time": "2018-06-07T21:04:54.963364Z"
    }
   },
   "outputs": [],
   "source": [
    "import tqdm\n",
    "import time"
   ]
  },
  {
   "cell_type": "code",
   "execution_count": 74,
   "metadata": {
    "ExecuteTime": {
     "end_time": "2018-06-07T21:08:35.026412Z",
     "start_time": "2018-06-07T21:08:35.017340Z"
    }
   },
   "outputs": [],
   "source": [
    "def run_experiment(rps: list, users: list, duration_sec=7):\n",
    "    all_distributions = []\n",
    "    all_requests = []\n",
    "    \n",
    "    for rp, users in tqdm.tqdm(zip(rps, users)):        \n",
    "        #users = int(rps / 10 + 2)\n",
    "        #users = 5\n",
    "        print(rp, users)\n",
    "        os.system(f'./run_locust.sh {users} {duration_sec} {rp}')\n",
    "        time.sleep(1)\n",
    "        distribution = pd.read_csv('foobar_distribution.csv')\n",
    "        distribution['rps'] = rp\n",
    "        all_distributions.append(distribution)\n",
    "        requests = pd.read_csv('foobar_requests.csv')\n",
    "        requests['rps'] = rp\n",
    "        all_requests.append(requests)\n",
    "        print(requests)\n",
    "        \n",
    "    distributions = pd.concat(all_distributions)\n",
    "    distributions = distributions[distributions.Name != 'None Total']\n",
    "    \n",
    "    requests = pd.concat(all_requests)\n",
    "    requests = requests[requests.Name != 'Total']\n",
    "    return distributions, requests"
   ]
  },
  {
   "cell_type": "code",
   "execution_count": 75,
   "metadata": {
    "ExecuteTime": {
     "end_time": "2018-06-07T21:08:35.599790Z",
     "start_time": "2018-06-07T21:08:35.590002Z"
    }
   },
   "outputs": [],
   "source": [
    "def report(requests, distributions, experiment):\n",
    "    return pd.DataFrame({\n",
    "        'experiment': experiment,\n",
    "        #'me': requests['Name'],\n",
    "        'rps': requests['Requests/s'],\n",
    "        'load': requests['rps'],\n",
    "        '50': distributions['50%'],\n",
    "        '75': distributions['75%'],\n",
    "        '95': distributions['95%'],\n",
    "        '99': distributions['99%'],\n",
    "        '100': distributions['100%'],\n",
    "    })"
   ]
  },
  {
   "cell_type": "code",
   "execution_count": 76,
   "metadata": {
    "ExecuteTime": {
     "end_time": "2018-06-07T21:09:11.124419Z",
     "start_time": "2018-06-07T21:08:36.470879Z"
    }
   },
   "outputs": [
    {
     "name": "stderr",
     "output_type": "stream",
     "text": [
      "\n",
      "0it [00:00, ?it/s]\u001b[A"
     ]
    },
    {
     "name": "stdout",
     "output_type": "stream",
     "text": [
      "100 10\n"
     ]
    },
    {
     "name": "stderr",
     "output_type": "stream",
     "text": [
      "\n",
      "1it [00:11, 11.55s/it]\u001b[A"
     ]
    },
    {
     "name": "stdout",
     "output_type": "stream",
     "text": [
      "  Method   Name  # requests  # failures  Median response time  \\\n",
      "0   http    200         809           0                    54   \n",
      "1   None  Total         809           0                    54   \n",
      "\n",
      "   Average response time  Min response time  Max response time  \\\n",
      "0                     53                 50                 60   \n",
      "1                     53                 50                 60   \n",
      "\n",
      "   Average Content Size  Requests/s  rps  \n",
      "0                     2      134.46  100  \n",
      "1                     2      134.46  100  \n",
      "200 20\n"
     ]
    },
    {
     "name": "stderr",
     "output_type": "stream",
     "text": [
      "\n",
      "2it [00:23, 11.54s/it]\u001b[A"
     ]
    },
    {
     "name": "stdout",
     "output_type": "stream",
     "text": [
      "  Method   Name  # requests  # failures  Median response time  \\\n",
      "0   http    200         809           0                    54   \n",
      "1   None  Total         809           0                    54   \n",
      "\n",
      "   Average response time  Min response time  Max response time  \\\n",
      "0                     53                 50                 60   \n",
      "1                     53                 50                 60   \n",
      "\n",
      "   Average Content Size  Requests/s  rps  \n",
      "0                     2      134.46  200  \n",
      "1                     2      134.46  200  \n",
      "300 30\n"
     ]
    },
    {
     "name": "stderr",
     "output_type": "stream",
     "text": [
      "\n",
      "3it [00:34, 11.54s/it]\u001b[A\n",
      "\u001b[A"
     ]
    },
    {
     "name": "stdout",
     "output_type": "stream",
     "text": [
      "  Method   Name  # requests  # failures  Median response time  \\\n",
      "0   http    200         809           0                    54   \n",
      "1   None  Total         809           0                    54   \n",
      "\n",
      "   Average response time  Min response time  Max response time  \\\n",
      "0                     53                 50                 60   \n",
      "1                     53                 50                 60   \n",
      "\n",
      "   Average Content Size  Requests/s  rps  \n",
      "0                     2      134.46  300  \n",
      "1                     2      134.46  300  \n"
     ]
    },
    {
     "data": {
      "text/html": [
       "<div>\n",
       "<style scoped>\n",
       "    .dataframe tbody tr th:only-of-type {\n",
       "        vertical-align: middle;\n",
       "    }\n",
       "\n",
       "    .dataframe tbody tr th {\n",
       "        vertical-align: top;\n",
       "    }\n",
       "\n",
       "    .dataframe thead th {\n",
       "        text-align: right;\n",
       "    }\n",
       "</style>\n",
       "<table border=\"1\" class=\"dataframe\">\n",
       "  <thead>\n",
       "    <tr style=\"text-align: right;\">\n",
       "      <th></th>\n",
       "      <th>experiment</th>\n",
       "      <th>rps</th>\n",
       "      <th>load</th>\n",
       "      <th>50</th>\n",
       "      <th>75</th>\n",
       "      <th>95</th>\n",
       "      <th>99</th>\n",
       "      <th>100</th>\n",
       "    </tr>\n",
       "  </thead>\n",
       "  <tbody>\n",
       "    <tr>\n",
       "      <th>0</th>\n",
       "      <td>aiohttp uvloop</td>\n",
       "      <td>134.46</td>\n",
       "      <td>100</td>\n",
       "      <td>54</td>\n",
       "      <td>55</td>\n",
       "      <td>57</td>\n",
       "      <td>58</td>\n",
       "      <td>60</td>\n",
       "    </tr>\n",
       "    <tr>\n",
       "      <th>0</th>\n",
       "      <td>aiohttp uvloop</td>\n",
       "      <td>134.46</td>\n",
       "      <td>200</td>\n",
       "      <td>54</td>\n",
       "      <td>55</td>\n",
       "      <td>57</td>\n",
       "      <td>58</td>\n",
       "      <td>60</td>\n",
       "    </tr>\n",
       "    <tr>\n",
       "      <th>0</th>\n",
       "      <td>aiohttp uvloop</td>\n",
       "      <td>134.46</td>\n",
       "      <td>300</td>\n",
       "      <td>54</td>\n",
       "      <td>55</td>\n",
       "      <td>57</td>\n",
       "      <td>58</td>\n",
       "      <td>60</td>\n",
       "    </tr>\n",
       "  </tbody>\n",
       "</table>\n",
       "</div>"
      ],
      "text/plain": [
       "       experiment     rps  load  50  75  95  99  100\n",
       "0  aiohttp uvloop  134.46   100  54  55  57  58   60\n",
       "0  aiohttp uvloop  134.46   200  54  55  57  58   60\n",
       "0  aiohttp uvloop  134.46   300  54  55  57  58   60"
      ]
     },
     "execution_count": 76,
     "metadata": {},
     "output_type": "execute_result"
    }
   ],
   "source": [
    "distributions, requests = run_experiment(users=[10, 20, 30], rps=[100, 200, 300], duration_sec=10)\n",
    "r = report(requests, distributions, 'aiohttp uvloop')\n",
    "r"
   ]
  },
  {
   "cell_type": "code",
   "execution_count": 77,
   "metadata": {
    "ExecuteTime": {
     "end_time": "2018-06-07T21:09:57.707791Z",
     "start_time": "2018-06-07T21:09:46.136851Z"
    }
   },
   "outputs": [
    {
     "name": "stderr",
     "output_type": "stream",
     "text": [
      "\n",
      "0it [00:00, ?it/s]\u001b[A"
     ]
    },
    {
     "name": "stdout",
     "output_type": "stream",
     "text": [
      "1000 50\n"
     ]
    },
    {
     "name": "stderr",
     "output_type": "stream",
     "text": [
      "\n",
      "1it [00:11, 11.53s/it]\u001b[A\n",
      "\u001b[A"
     ]
    },
    {
     "name": "stdout",
     "output_type": "stream",
     "text": [
      "  Method   Name  # requests  # failures  Median response time  \\\n",
      "0   http    200         809           0                    54   \n",
      "1   None  Total         809           0                    54   \n",
      "\n",
      "   Average response time  Min response time  Max response time  \\\n",
      "0                     53                 50                 60   \n",
      "1                     53                 50                 60   \n",
      "\n",
      "   Average Content Size  Requests/s   rps  \n",
      "0                     2      134.46  1000  \n",
      "1                     2      134.46  1000  \n"
     ]
    },
    {
     "data": {
      "text/html": [
       "<div>\n",
       "<style scoped>\n",
       "    .dataframe tbody tr th:only-of-type {\n",
       "        vertical-align: middle;\n",
       "    }\n",
       "\n",
       "    .dataframe tbody tr th {\n",
       "        vertical-align: top;\n",
       "    }\n",
       "\n",
       "    .dataframe thead th {\n",
       "        text-align: right;\n",
       "    }\n",
       "</style>\n",
       "<table border=\"1\" class=\"dataframe\">\n",
       "  <thead>\n",
       "    <tr style=\"text-align: right;\">\n",
       "      <th></th>\n",
       "      <th>experiment</th>\n",
       "      <th>rps</th>\n",
       "      <th>load</th>\n",
       "      <th>50</th>\n",
       "      <th>75</th>\n",
       "      <th>95</th>\n",
       "      <th>99</th>\n",
       "      <th>100</th>\n",
       "    </tr>\n",
       "  </thead>\n",
       "  <tbody>\n",
       "    <tr>\n",
       "      <th>0</th>\n",
       "      <td>aiohttp uvloop</td>\n",
       "      <td>134.46</td>\n",
       "      <td>1000</td>\n",
       "      <td>54</td>\n",
       "      <td>55</td>\n",
       "      <td>57</td>\n",
       "      <td>58</td>\n",
       "      <td>60</td>\n",
       "    </tr>\n",
       "  </tbody>\n",
       "</table>\n",
       "</div>"
      ],
      "text/plain": [
       "       experiment     rps  load  50  75  95  99  100\n",
       "0  aiohttp uvloop  134.46  1000  54  55  57  58   60"
      ]
     },
     "execution_count": 77,
     "metadata": {},
     "output_type": "execute_result"
    }
   ],
   "source": [
    "distributions, requests = run_experiment(users=[50], rps=[1000], duration_sec=10)\n",
    "r2 = report(requests, distributions, 'aiohttp uvloop')\n",
    "r2"
   ]
  },
  {
   "cell_type": "code",
   "execution_count": 42,
   "metadata": {
    "ExecuteTime": {
     "end_time": "2018-06-07T20:57:11.112191Z",
     "start_time": "2018-06-07T20:57:11.091823Z"
    }
   },
   "outputs": [
    {
     "data": {
      "text/html": [
       "<div>\n",
       "<style scoped>\n",
       "    .dataframe tbody tr th:only-of-type {\n",
       "        vertical-align: middle;\n",
       "    }\n",
       "\n",
       "    .dataframe tbody tr th {\n",
       "        vertical-align: top;\n",
       "    }\n",
       "\n",
       "    .dataframe thead th {\n",
       "        text-align: right;\n",
       "    }\n",
       "</style>\n",
       "<table border=\"1\" class=\"dataframe\">\n",
       "  <thead>\n",
       "    <tr style=\"text-align: right;\">\n",
       "      <th></th>\n",
       "      <th>Method</th>\n",
       "      <th>Name</th>\n",
       "      <th># requests</th>\n",
       "      <th># failures</th>\n",
       "      <th>Median response time</th>\n",
       "      <th>Average response time</th>\n",
       "      <th>Min response time</th>\n",
       "      <th>Max response time</th>\n",
       "      <th>Average Content Size</th>\n",
       "      <th>Requests/s</th>\n",
       "      <th>rps</th>\n",
       "    </tr>\n",
       "  </thead>\n",
       "  <tbody>\n",
       "    <tr>\n",
       "      <th>0</th>\n",
       "      <td>http</td>\n",
       "      <td>200 http</td>\n",
       "      <td>25</td>\n",
       "      <td>0</td>\n",
       "      <td>54</td>\n",
       "      <td>54</td>\n",
       "      <td>51</td>\n",
       "      <td>57</td>\n",
       "      <td>2</td>\n",
       "      <td>25.0</td>\n",
       "      <td>5</td>\n",
       "    </tr>\n",
       "    <tr>\n",
       "      <th>0</th>\n",
       "      <td>http</td>\n",
       "      <td>200 http</td>\n",
       "      <td>25</td>\n",
       "      <td>0</td>\n",
       "      <td>54</td>\n",
       "      <td>54</td>\n",
       "      <td>51</td>\n",
       "      <td>57</td>\n",
       "      <td>2</td>\n",
       "      <td>25.0</td>\n",
       "      <td>10</td>\n",
       "    </tr>\n",
       "  </tbody>\n",
       "</table>\n",
       "</div>"
      ],
      "text/plain": [
       "  Method      Name  # requests  # failures  Median response time  \\\n",
       "0   http  200 http          25           0                    54   \n",
       "0   http  200 http          25           0                    54   \n",
       "\n",
       "   Average response time  Min response time  Max response time  \\\n",
       "0                     54                 51                 57   \n",
       "0                     54                 51                 57   \n",
       "\n",
       "   Average Content Size  Requests/s  rps  \n",
       "0                     2        25.0    5  \n",
       "0                     2        25.0   10  "
      ]
     },
     "execution_count": 42,
     "metadata": {},
     "output_type": "execute_result"
    }
   ],
   "source": [
    "requests"
   ]
  },
  {
   "cell_type": "code",
   "execution_count": 34,
   "metadata": {
    "ExecuteTime": {
     "end_time": "2018-06-07T20:52:34.980501Z",
     "start_time": "2018-06-07T20:52:34.964525Z"
    }
   },
   "outputs": [
    {
     "data": {
      "text/html": [
       "<div>\n",
       "<style scoped>\n",
       "    .dataframe tbody tr th:only-of-type {\n",
       "        vertical-align: middle;\n",
       "    }\n",
       "\n",
       "    .dataframe tbody tr th {\n",
       "        vertical-align: top;\n",
       "    }\n",
       "\n",
       "    .dataframe thead th {\n",
       "        text-align: right;\n",
       "    }\n",
       "</style>\n",
       "<table border=\"1\" class=\"dataframe\">\n",
       "  <thead>\n",
       "    <tr style=\"text-align: right;\">\n",
       "      <th></th>\n",
       "      <th>Name</th>\n",
       "      <th># requests</th>\n",
       "      <th>50%</th>\n",
       "      <th>66%</th>\n",
       "      <th>75%</th>\n",
       "      <th>80%</th>\n",
       "      <th>90%</th>\n",
       "      <th>95%</th>\n",
       "      <th>98%</th>\n",
       "      <th>99%</th>\n",
       "      <th>100%</th>\n",
       "      <th>rps</th>\n",
       "    </tr>\n",
       "  </thead>\n",
       "  <tbody>\n",
       "    <tr>\n",
       "      <th>0</th>\n",
       "      <td>http 200</td>\n",
       "      <td>25</td>\n",
       "      <td>54</td>\n",
       "      <td>55</td>\n",
       "      <td>56</td>\n",
       "      <td>56</td>\n",
       "      <td>56</td>\n",
       "      <td>57</td>\n",
       "      <td>57</td>\n",
       "      <td>57</td>\n",
       "      <td>57</td>\n",
       "      <td>5</td>\n",
       "    </tr>\n",
       "    <tr>\n",
       "      <th>0</th>\n",
       "      <td>http 200</td>\n",
       "      <td>25</td>\n",
       "      <td>54</td>\n",
       "      <td>55</td>\n",
       "      <td>56</td>\n",
       "      <td>56</td>\n",
       "      <td>56</td>\n",
       "      <td>57</td>\n",
       "      <td>57</td>\n",
       "      <td>57</td>\n",
       "      <td>57</td>\n",
       "      <td>10</td>\n",
       "    </tr>\n",
       "  </tbody>\n",
       "</table>\n",
       "</div>"
      ],
      "text/plain": [
       "       Name  # requests  50%  66%  75%  80%  90%  95%  98%  99%  100%  rps\n",
       "0  http 200          25   54   55   56   56   56   57   57   57    57    5\n",
       "0  http 200          25   54   55   56   56   56   57   57   57    57   10"
      ]
     },
     "execution_count": 34,
     "metadata": {},
     "output_type": "execute_result"
    }
   ],
   "source": [
    "distributions"
   ]
  },
  {
   "cell_type": "code",
   "execution_count": null,
   "metadata": {},
   "outputs": [],
   "source": []
  }
 ],
 "metadata": {
  "kernelspec": {
   "display_name": "Python 3",
   "language": "python",
   "name": "python3"
  },
  "language_info": {
   "codemirror_mode": {
    "name": "ipython",
    "version": 3
   },
   "file_extension": ".py",
   "mimetype": "text/x-python",
   "name": "python",
   "nbconvert_exporter": "python",
   "pygments_lexer": "ipython3",
   "version": "3.6.5"
  },
  "toc": {
   "nav_menu": {},
   "number_sections": false,
   "sideBar": true,
   "skip_h1_title": false,
   "toc_cell": false,
   "toc_position": {},
   "toc_section_display": "block",
   "toc_window_display": false
  },
  "varInspector": {
   "cols": {
    "lenName": 16,
    "lenType": 16,
    "lenVar": 40
   },
   "kernels_config": {
    "python": {
     "delete_cmd_postfix": "",
     "delete_cmd_prefix": "del ",
     "library": "var_list.py",
     "varRefreshCmd": "print(var_dic_list())"
    },
    "r": {
     "delete_cmd_postfix": ") ",
     "delete_cmd_prefix": "rm(",
     "library": "var_list.r",
     "varRefreshCmd": "cat(var_dic_list()) "
    }
   },
   "types_to_exclude": [
    "module",
    "function",
    "builtin_function_or_method",
    "instance",
    "_Feature"
   ],
   "window_display": false
  }
 },
 "nbformat": 4,
 "nbformat_minor": 2
}
